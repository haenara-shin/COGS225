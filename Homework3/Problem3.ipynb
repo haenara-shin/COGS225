{
 "cells": [
  {
   "cell_type": "markdown",
   "metadata": {},
   "source": [
    "# Problem 3 (DL - MNIST)"
   ]
  },
  {
   "cell_type": "markdown",
   "metadata": {},
   "source": [
    "> Reference\n",
    "- https://pytorch.org/docs/stable/optim.html\n",
    "- https://dejanbatanjac.github.io/2019/07/02/Impact-of-WD.html\n",
    "- http://web.cs.ucla.edu/~patricia.xiao/files/CS269_Project_Report_2.pdf\n",
    "- https://github.com/hunkim/PyTorchZeroToAll/blob/master/10_1_cnn_mnist.py\n",
    "- https://wikidocs.net/63565"
   ]
  },
  {
   "cell_type": "code",
   "execution_count": 1,
   "metadata": {},
   "outputs": [],
   "source": [
    "import torch, torchvision\n",
    "import torchvision.transforms as transforms\n",
    "\n",
    "import torch.nn as nn\n",
    "import torch.nn.functional as F\n",
    "from torch.autograd import Variable\n",
    "\n",
    "import torch.optim as optimizer\n",
    "\n",
    "import numpy as np\n",
    "import matplotlib.pyplot as plt\n",
    "import random"
   ]
  },
  {
   "cell_type": "code",
   "execution_count": 2,
   "metadata": {},
   "outputs": [],
   "source": [
    "#  CUDA\n",
    "use_cuda = torch.cuda.is_available()\n",
    "torch.cuda.set_device(0)"
   ]
  },
  {
   "cell_type": "code",
   "execution_count": 3,
   "metadata": {},
   "outputs": [],
   "source": [
    "# Hyperparameters \n",
    "num_epochs = 20\n",
    "batchSize = 4\n",
    "\n",
    "input_dim = 784\n",
    "hidden_dim = 100\n",
    "hidden2_dim = 64\n",
    "output_dim = 10"
   ]
  },
  {
   "cell_type": "code",
   "execution_count": 4,
   "metadata": {},
   "outputs": [],
   "source": [
    "# Transformation Function\n",
    "transform_to = transforms.Compose([transforms.ToTensor(), transforms.Normalize((0.1307,), (0.3081,))])"
   ]
  },
  {
   "cell_type": "code",
   "execution_count": 5,
   "metadata": {},
   "outputs": [],
   "source": [
    "# Loading the data\n",
    "trainData = torchvision.datasets.MNIST(root = './data', transform = transform_to,download = True)\n",
    "trainLoader = torch.utils.data.DataLoader(trainData,batch_size=batchSize,shuffle = True)\n",
    "\n",
    "testData = torchvision.datasets.MNIST(root = './data/', transform = transform_to,train = False, download = True)\n",
    "testLoader = torch.utils.data.DataLoader(testData, batch_size=batchSize)"
   ]
  },
  {
   "cell_type": "code",
   "execution_count": 6,
   "metadata": {},
   "outputs": [],
   "source": [
    "# Visualizing a few images\n",
    "\n",
    "def show_img(image,labels = None):\n",
    "    fig = plt.figure(figsize = (10,10))\n",
    "    for i in range(len(image)):\n",
    "        ax = plt.subplot(1,len(image),i+1)\n",
    "        unnormalized_image = image[i]*0.3081 + 0.1307\n",
    "        plt.imshow(unnormalized_image, cmap = 'gray')\n",
    "        plt.axis('off')\n",
    "        if labels is not None:\n",
    "            plt.title(labels[i])"
   ]
  },
  {
   "cell_type": "code",
   "execution_count": 7,
   "metadata": {},
   "outputs": [
    {
     "data": {
      "image/png": "[encoded data removed]",
      "text/plain": [
       "<Figure size 720x720 with 4 Axes>"
      ]
     },
     "metadata": {
      "needs_background": "light"
     },
     "output_type": "display_data"
    }
   ],
   "source": [
    "sample = next(iter(trainLoader))\n",
    "image, label = sample\n",
    "show_img(image.numpy().squeeze(),label.numpy())"
   ]
  },
  {
   "cell_type": "code",
   "execution_count": 8,
   "metadata": {},
   "outputs": [],
   "source": [
    "# Defining a Network\n",
    "\n",
    "class One_Hidden_Net(nn.Module):\n",
    "    \n",
    "    def __init__(self,i_dim,h_dim,o_dim):\n",
    "        super().__init__()\n",
    "        self.fc1 = nn.Linear(i_dim,h_dim)\n",
    "        self.fc2 = nn.Linear(h_dim,o_dim)\n",
    "        \n",
    "    def forward(self,x):\n",
    "        x = x.view(-1,784)\n",
    "        x = F.relu(self.fc1(x)) # 784x100\n",
    "        x = self.fc2(x) # 100x10\n",
    "        return x"
   ]
  },
  {
   "cell_type": "code",
   "execution_count": 9,
   "metadata": {},
   "outputs": [],
   "source": [
    "class Two_Hidden_Net(nn.Module):\n",
    "    \n",
    "    def __init__(self,i_dim,h1_dim,h2_dim,o_dim):\n",
    "        super().__init__()\n",
    "        self.fc1 = nn.Linear(i_dim,h1_dim)\n",
    "        self.fc2 = nn.Linear(h1_dim,h2_dim)\n",
    "        self.fc3 = nn.Linear(h2_dim,o_dim)\n",
    "        \n",
    "\n",
    "    def forward(self,x):\n",
    "        x = x.view(-1,784)\n",
    "        x = F.relu(self.fc1(x))\n",
    "        x = F.relu(self.fc2(x))\n",
    "        x = self.fc3(x)\n",
    "        return x"
   ]
  },
  {
   "cell_type": "code",
   "execution_count": 10,
   "metadata": {},
   "outputs": [],
   "source": [
    "def train(network,optimizer,loss_func):\n",
    "    loss_list = []\n",
    "    for epoch in range(num_epochs):\n",
    "        epoch_loss = []\n",
    "        for i,data in enumerate(trainLoader):\n",
    "            images,label = data\n",
    "            images, label = Variable(images).cuda(), Variable(label).cuda()\n",
    "        \n",
    "            optimizer.zero_grad()\n",
    "            output = network(images)\n",
    "            \n",
    "            loss = loss_func(output,label)\n",
    "            epoch_loss.append(loss.item())\n",
    "            loss.backward()\n",
    "            optimizer.step()\n",
    "            \n",
    "\n",
    "        loss_list.append(np.array(epoch_loss).mean())   \n",
    "        print(f'Epoch: {epoch+1}, Loss: {np.array(epoch_loss).mean():.3f}')\n",
    "    \n",
    "    print('Finished Training')\n",
    "    return loss_list           "
   ]
  },
  {
   "cell_type": "code",
   "execution_count": 11,
   "metadata": {},
   "outputs": [],
   "source": [
    "def predict_on_test(network,iterator,model_name):\n",
    "    correct = 0\n",
    "    total = 0\n",
    "    for data in iterator:\n",
    "        images,labels = data\n",
    "        images = Variable(images).cuda()\n",
    "        outputs = network(images)\n",
    "        class_scores,preds = torch.max(outputs.data,1)\n",
    "        total += len(labels)\n",
    "        correct += (preds == labels.cuda()).sum()\n",
    "        \n",
    "    print(f'Accuracy on Test Data using a {model_name} is {correct*100/total:.2f}%')\n",
    "    \n",
    "def plot_train_loss(losses,title):\n",
    "    plt.plot(losses)\n",
    "    plt.title(title)\n",
    "    plt.xlabel('No. of Epochs')\n",
    "    plt.ylabel('Training Loss')"
   ]
  },
  {
   "cell_type": "markdown",
   "metadata": {},
   "source": [
    "## 3.1 One hidden layer"
   ]
  },
  {
   "cell_type": "code",
   "execution_count": 12,
   "metadata": {},
   "outputs": [],
   "source": [
    "model = One_Hidden_Net(input_dim,hidden_dim,output_dim).cuda()"
   ]
  },
  {
   "cell_type": "code",
   "execution_count": 13,
   "metadata": {},
   "outputs": [
    {
     "data": {
      "text/plain": [
       "One_Hidden_Net(\n",
       "  (fc1): Linear(in_features=784, out_features=100, bias=True)\n",
       "  (fc2): Linear(in_features=100, out_features=10, bias=True)\n",
       ")"
      ]
     },
     "execution_count": 13,
     "metadata": {},
     "output_type": "execute_result"
    }
   ],
   "source": [
    "model.eval()"
   ]
  },
  {
   "cell_type": "code",
   "execution_count": 14,
   "metadata": {},
   "outputs": [],
   "source": [
    "# Setting hyperparameters\n",
    "loss_criterion = nn.CrossEntropyLoss()\n",
    "opt = optimizer.SGD(model.parameters(),lr = 0.01)"
   ]
  },
  {
   "cell_type": "markdown",
   "metadata": {},
   "source": [
    "- Training error with number of iterations"
   ]
  },
  {
   "cell_type": "code",
   "execution_count": 15,
   "metadata": {
    "scrolled": true
   },
   "outputs": [
    {
     "name": "stdout",
     "output_type": "stream",
     "text": [
      "Epoch: 1, Loss: 0.224\n",
      "Epoch: 2, Loss: 0.101\n",
      "Epoch: 3, Loss: 0.072\n",
      "Epoch: 4, Loss: 0.055\n",
      "Epoch: 5, Loss: 0.043\n",
      "Epoch: 6, Loss: 0.034\n",
      "Epoch: 7, Loss: 0.028\n",
      "Epoch: 8, Loss: 0.020\n",
      "Epoch: 9, Loss: 0.015\n",
      "Epoch: 10, Loss: 0.012\n",
      "Epoch: 11, Loss: 0.009\n",
      "Epoch: 12, Loss: 0.007\n",
      "Epoch: 13, Loss: 0.005\n",
      "Epoch: 14, Loss: 0.004\n",
      "Epoch: 15, Loss: 0.003\n",
      "Epoch: 16, Loss: 0.002\n",
      "Epoch: 17, Loss: 0.002\n",
      "Epoch: 18, Loss: 0.001\n",
      "Epoch: 19, Loss: 0.001\n",
      "Epoch: 20, Loss: 0.001\n",
      "Finished Training\n"
     ]
    }
   ],
   "source": [
    "train_loss = train(model,opt, loss_criterion)"
   ]
  },
  {
   "cell_type": "markdown",
   "metadata": {},
   "source": [
    "- Test error with number of iterations"
   ]
  },
  {
   "cell_type": "code",
   "execution_count": 16,
   "metadata": {
    "scrolled": true
   },
   "outputs": [
    {
     "data": {
      "image/png": "[encoded data removed]",
      "text/plain": [
       "<Figure size 432x288 with 1 Axes>"
      ]
     },
     "metadata": {
      "needs_background": "light"
     },
     "output_type": "display_data"
    }
   ],
   "source": [
    "plot_train_loss(train_loss,'Training Loss on 1-Hidden Layer NN using SGD and CE Loss')\n",
    "plt.grid(True)"
   ]
  },
  {
   "cell_type": "code",
   "execution_count": 17,
   "metadata": {},
   "outputs": [
    {
     "name": "stdout",
     "output_type": "stream",
     "text": [
      "Accuracy on Test Data using a 1-Hidden Layer NN is 98.00%\n"
     ]
    }
   ],
   "source": [
    "predict_on_test(model,testLoader,'1-Hidden Layer NN')"
   ]
  },
  {
   "cell_type": "markdown",
   "metadata": {},
   "source": [
    "- Network architecture: Input(dim=784) - Linear(input dim=784, output dim=100) - ReLU - Linear(input dim=100, output dim=10) - Output(dim=10)\n",
    "- Hyperparameters: learning rate(0.01), epochs(20), batch size(4)\n"
   ]
  },
  {
   "cell_type": "markdown",
   "metadata": {},
   "source": [
    "## 3.2 Two hidden layers"
   ]
  },
  {
   "cell_type": "code",
   "execution_count": 18,
   "metadata": {},
   "outputs": [],
   "source": [
    "model_2 = Two_Hidden_Net(input_dim,hidden2_dim,hidden2_dim,output_dim).cuda()"
   ]
  },
  {
   "cell_type": "code",
   "execution_count": 19,
   "metadata": {},
   "outputs": [
    {
     "data": {
      "text/plain": [
       "Two_Hidden_Net(\n",
       "  (fc1): Linear(in_features=784, out_features=64, bias=True)\n",
       "  (fc2): Linear(in_features=64, out_features=64, bias=True)\n",
       "  (fc3): Linear(in_features=64, out_features=10, bias=True)\n",
       ")"
      ]
     },
     "execution_count": 19,
     "metadata": {},
     "output_type": "execute_result"
    }
   ],
   "source": [
    "model_2.eval()"
   ]
  },
  {
   "cell_type": "code",
   "execution_count": 20,
   "metadata": {},
   "outputs": [],
   "source": [
    "num_epochs = 30"
   ]
  },
  {
   "cell_type": "code",
   "execution_count": 21,
   "metadata": {},
   "outputs": [],
   "source": [
    "loss_criterion2 = nn.CrossEntropyLoss()\n",
    "opt2 = optimizer.SGD(model_2.parameters(),lr = 0.01)"
   ]
  },
  {
   "cell_type": "markdown",
   "metadata": {},
   "source": [
    "- Training error with iterations"
   ]
  },
  {
   "cell_type": "code",
   "execution_count": 22,
   "metadata": {},
   "outputs": [
    {
     "name": "stdout",
     "output_type": "stream",
     "text": [
      "Epoch: 1, Loss: 0.265\n",
      "Epoch: 2, Loss: 0.120\n",
      "Epoch: 3, Loss: 0.086\n",
      "Epoch: 4, Loss: 0.068\n",
      "Epoch: 5, Loss: 0.054\n",
      "Epoch: 6, Loss: 0.044\n",
      "Epoch: 7, Loss: 0.038\n",
      "Epoch: 8, Loss: 0.032\n",
      "Epoch: 9, Loss: 0.026\n",
      "Epoch: 10, Loss: 0.027\n",
      "Epoch: 11, Loss: 0.021\n",
      "Epoch: 12, Loss: 0.018\n",
      "Epoch: 13, Loss: 0.019\n",
      "Epoch: 14, Loss: 0.016\n",
      "Epoch: 15, Loss: 0.015\n",
      "Epoch: 16, Loss: 0.010\n",
      "Epoch: 17, Loss: 0.009\n",
      "Epoch: 18, Loss: 0.010\n",
      "Epoch: 19, Loss: 0.008\n",
      "Epoch: 20, Loss: 0.008\n",
      "Epoch: 21, Loss: 0.006\n",
      "Epoch: 22, Loss: 0.012\n",
      "Epoch: 23, Loss: 0.009\n",
      "Epoch: 24, Loss: 0.012\n",
      "Epoch: 25, Loss: 0.014\n",
      "Epoch: 26, Loss: 0.013\n",
      "Epoch: 27, Loss: 0.009\n",
      "Epoch: 28, Loss: 0.011\n",
      "Epoch: 29, Loss: 0.009\n",
      "Epoch: 30, Loss: 0.009\n",
      "Finished Training\n"
     ]
    }
   ],
   "source": [
    "train2_loss = train(model_2,opt2,loss_criterion2)"
   ]
  },
  {
   "cell_type": "code",
   "execution_count": 23,
   "metadata": {
    "scrolled": true
   },
   "outputs": [
    {
     "data": {
      "image/png": "[encoded data removed]",
      "text/plain": [
       "<Figure size 432x288 with 1 Axes>"
      ]
     },
     "metadata": {
      "needs_background": "light"
     },
     "output_type": "display_data"
    }
   ],
   "source": [
    "plt.grid(True)\n",
    "plot_train_loss(train2_loss,title = 'Training Loss on 2-Hidden Layer NN using SGD and CE Loss')"
   ]
  },
  {
   "cell_type": "markdown",
   "metadata": {},
   "source": [
    "- Test error with number of iterations"
   ]
  },
  {
   "cell_type": "code",
   "execution_count": 24,
   "metadata": {
    "scrolled": true
   },
   "outputs": [
    {
     "name": "stdout",
     "output_type": "stream",
     "text": [
      "Accuracy on Test Data using a 2-Hidden Layer NN is 97.00%\n"
     ]
    }
   ],
   "source": [
    "predict_on_test(model_2,testLoader,'2-Hidden Layer NN')"
   ]
  },
  {
   "cell_type": "markdown",
   "metadata": {},
   "source": [
    "- Comparing against the baseline: Even though I increaased the number of epochs from 20 to 30, both average and final training loss and test error with number of iterations are bigger than the baseline case."
   ]
  },
  {
   "cell_type": "markdown",
   "metadata": {},
   "source": [
    "## 3.3 Regularization and momentum"
   ]
  },
  {
   "cell_type": "code",
   "execution_count": 25,
   "metadata": {},
   "outputs": [],
   "source": [
    "import torch, torchvision\n",
    "import torchvision.transforms as transforms\n",
    "\n",
    "import torch.nn as nn\n",
    "import torch.nn.functional as F\n",
    "from torch.autograd import Variable\n",
    "import torch.optim as optimizer\n",
    "\n",
    "import numpy as np\n",
    "import matplotlib.pyplot as plt\n",
    "import random"
   ]
  },
  {
   "cell_type": "code",
   "execution_count": 26,
   "metadata": {},
   "outputs": [],
   "source": [
    "# CUDA import\n",
    "use_cuda = torch.cuda.is_available()\n",
    "torch.cuda.set_device(0)"
   ]
  },
  {
   "cell_type": "code",
   "execution_count": 27,
   "metadata": {},
   "outputs": [],
   "source": [
    "# Hyperparameters \n",
    "num_epochs = 50\n",
    "batchSize = 4\n",
    "\n",
    "input_dim = 784\n",
    "hidden_dim = 100\n",
    "hidden2_dim = 64\n",
    "output_dim = 10"
   ]
  },
  {
   "cell_type": "code",
   "execution_count": 28,
   "metadata": {},
   "outputs": [],
   "source": [
    "# Transformation Function\n",
    "transform_to = transforms.Compose([transforms.ToTensor(), transforms.Normalize((0.1307,), (0.3081,))])"
   ]
  },
  {
   "cell_type": "code",
   "execution_count": 29,
   "metadata": {},
   "outputs": [],
   "source": [
    "# Loading the data\n",
    "trainData = torchvision.datasets.MNIST(root = './data', transform = transform_to,download = True)\n",
    "trainLoader = torch.utils.data.DataLoader(trainData,batch_size=batchSize,shuffle = True)\n",
    "\n",
    "testData = torchvision.datasets.MNIST(root = './data/', transform = transform_to,train = False, download = True)\n",
    "testLoader = torch.utils.data.DataLoader(testData, batch_size=batchSize)"
   ]
  },
  {
   "cell_type": "code",
   "execution_count": 30,
   "metadata": {},
   "outputs": [],
   "source": [
    "# Defining a Network\n",
    "class One_Hidden_Net(nn.Module):\n",
    "    \n",
    "    def __init__(self,i_dim,h_dim,o_dim):\n",
    "        super().__init__()\n",
    "        self.fc1 = nn.Linear(i_dim,h_dim)\n",
    "        self.fc2 = nn.Linear(h_dim,o_dim)\n",
    "        \n",
    "    def forward(self,x):\n",
    "        x = x.view(-1,784)\n",
    "        x = F.relu(self.fc1(x)) # 784x100\n",
    "        x = self.fc2(x) # 100x10\n",
    "        return x"
   ]
  },
  {
   "cell_type": "code",
   "execution_count": 31,
   "metadata": {},
   "outputs": [],
   "source": [
    "def train(network,optimizer,loss_func):\n",
    "    loss_list = []\n",
    "    for epoch in range(num_epochs):\n",
    "        epoch_loss = []\n",
    "        for i,data in enumerate(trainLoader):\n",
    "            images,label = data\n",
    "            images, label = Variable(images).cuda(), Variable(label).cuda()\n",
    "        \n",
    "            optimizer.zero_grad()\n",
    "            output = network(images)\n",
    "            \n",
    "            loss = loss_func(output,label)\n",
    "            epoch_loss.append(loss.item())\n",
    "            loss.backward()\n",
    "            optimizer.step()   \n",
    "\n",
    "        loss_list.append(np.array(epoch_loss).mean())   \n",
    "        print(f'Epoch: {epoch+1}, Loss: {np.array(epoch_loss).mean():.3f}')\n",
    "    \n",
    "    print('Finished Training')\n",
    "    return loss_list           "
   ]
  },
  {
   "cell_type": "code",
   "execution_count": 32,
   "metadata": {},
   "outputs": [],
   "source": [
    "def predict_on_test(network,iterator,model_name):\n",
    "    correct = 0\n",
    "    total = 0\n",
    "    for data in iterator:\n",
    "        images,labels = data\n",
    "        images = Variable(images).cuda()\n",
    "        outputs = network(images)\n",
    "        class_scores,preds = torch.max(outputs.data,1)\n",
    "        total += len(labels)\n",
    "        correct += (preds == labels.cuda()).sum()\n",
    "        \n",
    "    print(f'Accuracy on Test Data using a {model_name} is {correct*100/total:.2f}%')\n",
    "    \n",
    "def plot_train_loss(losses,title):\n",
    "    plt.plot(losses)\n",
    "    plt.title(title)\n",
    "    plt.xlabel('No. of Epochs')\n",
    "    plt.ylabel('Training Loss')"
   ]
  },
  {
   "cell_type": "code",
   "execution_count": 33,
   "metadata": {},
   "outputs": [
    {
     "data": {
      "text/plain": [
       "One_Hidden_Net(\n",
       "  (fc1): Linear(in_features=784, out_features=100, bias=True)\n",
       "  (fc2): Linear(in_features=100, out_features=10, bias=True)\n",
       ")"
      ]
     },
     "execution_count": 33,
     "metadata": {},
     "output_type": "execute_result"
    }
   ],
   "source": [
    "model = One_Hidden_Net(input_dim,hidden_dim,output_dim).cuda()\n",
    "model.eval()"
   ]
  },
  {
   "cell_type": "code",
   "execution_count": 34,
   "metadata": {},
   "outputs": [],
   "source": [
    "# Setting hyperparameters\n",
    "loss_criterion = nn.CrossEntropyLoss()\n",
    "opt = optimizer.SGD(model.parameters(),lr = 0.01, weight_decay=0.0001, momentum=0.9)"
   ]
  },
  {
   "cell_type": "markdown",
   "metadata": {},
   "source": [
    "- Training loss with number of iterations"
   ]
  },
  {
   "cell_type": "code",
   "execution_count": 35,
   "metadata": {
    "scrolled": true
   },
   "outputs": [
    {
     "name": "stdout",
     "output_type": "stream",
     "text": [
      "Epoch: 1, Loss: 0.593\n",
      "Epoch: 2, Loss: 0.478\n",
      "Epoch: 3, Loss: 0.461\n",
      "Epoch: 4, Loss: 0.412\n",
      "Epoch: 5, Loss: 0.393\n",
      "Epoch: 6, Loss: 0.379\n",
      "Epoch: 7, Loss: 0.361\n",
      "Epoch: 8, Loss: 0.383\n",
      "Epoch: 9, Loss: 0.368\n",
      "Epoch: 10, Loss: 0.353\n",
      "Epoch: 11, Loss: 0.380\n",
      "Epoch: 12, Loss: 0.353\n",
      "Epoch: 13, Loss: 0.358\n",
      "Epoch: 14, Loss: 0.354\n",
      "Epoch: 15, Loss: 0.339\n",
      "Epoch: 16, Loss: 0.320\n",
      "Epoch: 17, Loss: 0.353\n",
      "Epoch: 18, Loss: 0.378\n",
      "Epoch: 19, Loss: 0.377\n",
      "Epoch: 20, Loss: 0.375\n",
      "Epoch: 21, Loss: 0.374\n",
      "Epoch: 22, Loss: 0.376\n",
      "Epoch: 23, Loss: 0.362\n",
      "Epoch: 24, Loss: 0.346\n",
      "Epoch: 25, Loss: 0.361\n",
      "Epoch: 26, Loss: 0.367\n",
      "Epoch: 27, Loss: 0.322\n",
      "Epoch: 28, Loss: 0.358\n",
      "Epoch: 29, Loss: 0.341\n",
      "Epoch: 30, Loss: 0.347\n",
      "Epoch: 31, Loss: 0.372\n",
      "Epoch: 32, Loss: 0.375\n",
      "Epoch: 33, Loss: 0.345\n",
      "Epoch: 34, Loss: 0.359\n",
      "Epoch: 35, Loss: 0.338\n",
      "Epoch: 36, Loss: 0.326\n",
      "Epoch: 37, Loss: 0.313\n",
      "Epoch: 38, Loss: 0.313\n",
      "Epoch: 39, Loss: 0.336\n",
      "Epoch: 40, Loss: 0.339\n",
      "Epoch: 41, Loss: 0.328\n",
      "Epoch: 42, Loss: 0.320\n",
      "Epoch: 43, Loss: 0.361\n",
      "Epoch: 44, Loss: 0.331\n",
      "Epoch: 45, Loss: 0.331\n",
      "Epoch: 46, Loss: 0.384\n",
      "Epoch: 47, Loss: 0.377\n",
      "Epoch: 48, Loss: 0.371\n",
      "Epoch: 49, Loss: 0.334\n",
      "Epoch: 50, Loss: 0.338\n",
      "Finished Training\n"
     ]
    }
   ],
   "source": [
    "train_loss = train(model,opt, loss_criterion)"
   ]
  },
  {
   "cell_type": "code",
   "execution_count": 36,
   "metadata": {},
   "outputs": [
    {
     "data": {
      "image/png": "[encoded data removed]",
      "text/plain": [
       "<Figure size 432x288 with 1 Axes>"
      ]
     },
     "metadata": {
      "needs_background": "light"
     },
     "output_type": "display_data"
    }
   ],
   "source": [
    "plot_train_loss(train_loss,'Training Loss on 1-Hidden Layer NN using SGD and CE Loss')\n",
    "plt.grid(True)"
   ]
  },
  {
   "cell_type": "markdown",
   "metadata": {},
   "source": [
    "- Test error with number of iterations"
   ]
  },
  {
   "cell_type": "code",
   "execution_count": 37,
   "metadata": {},
   "outputs": [
    {
     "name": "stdout",
     "output_type": "stream",
     "text": [
      "Accuracy on Test Data using a 1-Hidden Layer NN with Regularization and momentum is 93.00%\n"
     ]
    }
   ],
   "source": [
    "predict_on_test(model,testLoader,'1-Hidden Layer NN with Regularization and momentum')"
   ]
  },
  {
   "cell_type": "markdown",
   "metadata": {},
   "source": [
    "- Here, I applied the L_2 regularization(0.0001) and momentum(0.9), with increased epochs(50) after several trying to enhance the performance. However, both training and test error with number of iterations are not enahnced. Also, it seems that the convergence speed is not shorter than the baseline, too. "
   ]
  },
  {
   "cell_type": "markdown",
   "metadata": {},
   "source": [
    "## 3.4 Convolution as hidden layers (One hidden layer)"
   ]
  },
  {
   "cell_type": "code",
   "execution_count": 38,
   "metadata": {},
   "outputs": [],
   "source": [
    "import argparse\n",
    "import torch\n",
    "import torch.nn as nn\n",
    "import torch.nn.functional as F\n",
    "import torch.optim as optim\n",
    "from torchvision import datasets, transforms\n",
    "from torch.autograd import Variable"
   ]
  },
  {
   "cell_type": "code",
   "execution_count": 39,
   "metadata": {},
   "outputs": [],
   "source": [
    "# Training settings\n",
    "batch_size = 64"
   ]
  },
  {
   "cell_type": "code",
   "execution_count": 40,
   "metadata": {},
   "outputs": [],
   "source": [
    "# MNIST dataset\n",
    "train_dataset = datasets.MNIST(root='./data/', train=True, transform=transforms.ToTensor(),\n",
    "                              download=True)\n",
    "test_dataset = datasets.MNIST(root='./data/', train=False, transform=transforms.ToTensor())\n",
    "\n",
    "# Data Loader\n",
    "train_loader = torch.utils.data.DataLoader(dataset=train_dataset, batch_size=batch_size, shuffle=True)\n",
    "test_loader = torch.utils.data.DataLoader(dataset=test_dataset, batch_size=batch_size, shuffle=False)"
   ]
  },
  {
   "cell_type": "code",
   "execution_count": 41,
   "metadata": {},
   "outputs": [],
   "source": [
    "class Net(nn.Module):\n",
    "    def __init__(self):\n",
    "        super(Net, self).__init__()\n",
    "        self.conv1 = nn.Conv2d(1, 10, kernel_size=5)\n",
    "        self.conv2 = nn.Conv2d(10, 20, kernel_size=5)\n",
    "        self.mp = nn.MaxPool2d(2)\n",
    "        self.fc = nn.Linear(320, 10)\n",
    "        \n",
    "    def forward(self, x):\n",
    "        in_size = x.size(0)\n",
    "        x = F.relu(self.mp(self.conv1(x)))\n",
    "        x = F.relu(self.mp(self.conv2(x)))\n",
    "        x = x.view(in_size, -1) # flatten\n",
    "        x = self.fc(x)\n",
    "        return F.log_softmax(x)"
   ]
  },
  {
   "cell_type": "code",
   "execution_count": 42,
   "metadata": {},
   "outputs": [],
   "source": [
    "model = Net()"
   ]
  },
  {
   "cell_type": "code",
   "execution_count": 43,
   "metadata": {},
   "outputs": [
    {
     "data": {
      "text/plain": [
       "Net(\n",
       "  (conv1): Conv2d(1, 10, kernel_size=(5, 5), stride=(1, 1))\n",
       "  (conv2): Conv2d(10, 20, kernel_size=(5, 5), stride=(1, 1))\n",
       "  (mp): MaxPool2d(kernel_size=2, stride=2, padding=0, dilation=1, ceil_mode=False)\n",
       "  (fc): Linear(in_features=320, out_features=10, bias=True)\n",
       ")"
      ]
     },
     "execution_count": 43,
     "metadata": {},
     "output_type": "execute_result"
    }
   ],
   "source": [
    "model.eval()"
   ]
  },
  {
   "cell_type": "code",
   "execution_count": 44,
   "metadata": {},
   "outputs": [],
   "source": [
    "optimizer = optim.SGD(model.parameters(), lr=0.01, momentum=0.5)"
   ]
  },
  {
   "cell_type": "code",
   "execution_count": 45,
   "metadata": {},
   "outputs": [],
   "source": [
    "def train(epoch):\n",
    "    model.train()\n",
    "    for batch_idx, (data, target) in enumerate(train_loader):\n",
    "        data, target = Variable(data), Variable(target)\n",
    "        optimizer.zero_grad()\n",
    "        output = model(data)\n",
    "        loss = F.nll_loss(output, target)\n",
    "        train_losses.append(loss.item())\n",
    "        loss.backward()\n",
    "        optimizer.step()\n",
    "        if batch_idx % 100 == 0:\n",
    "            print('Train Epoch: {} [{}/{} ({:.0f}%)]\\tLoss: {:.6f}'.format(\n",
    "                epoch, batch_idx * len(data), len(train_loader.dataset),\n",
    "                100. * batch_idx / len(train_loader), loss.item()))"
   ]
  },
  {
   "cell_type": "code",
   "execution_count": 46,
   "metadata": {},
   "outputs": [],
   "source": [
    "def test():\n",
    "    model.eval()\n",
    "    test_loss = 0\n",
    "    correct = 0\n",
    "    for data, target in test_loader:\n",
    "        data, target = Variable(data, volatile=True), Variable(target)\n",
    "        output = model(data)\n",
    "        \n",
    "        test_loss += F.nll_loss(output, target, size_average=False).item()\n",
    "        \n",
    "        pred = output.data.max(1, keepdim=True)[1]\n",
    "        correct += pred.eq(target.data.view_as(pred)).cpu().sum()\n",
    "        \n",
    "    test_loss /= len(test_loader.dataset)\n",
    "    test_losses.append(test_loss)\n",
    "    acc=100. * float(correct.to(torch.device('cpu')).numpy())\n",
    "    print('\\nTest set: Average loss: {:.4f}, Accuracy: {}/{} ({:.0f}%)\\n'.format(\n",
    "        test_loss, correct, len(test_loader.dataset),\n",
    "        100. * acc / len(test_loader.dataset)))\n",
    "    test_accuracy.append(acc / len(test_loader.dataset))"
   ]
  },
  {
   "cell_type": "code",
   "execution_count": 47,
   "metadata": {
    "scrolled": false
   },
   "outputs": [
    {
     "name": "stderr",
     "output_type": "stream",
     "text": [
      "  0%|          | 0/20 [00:00<?, ?it/s]/opt/conda/lib/python3.7/site-packages/ipykernel_launcher.py:15: UserWarning: Implicit dimension choice for log_softmax has been deprecated. Change the call to include dim=X as an argument.\n",
      "  from ipykernel import kernelapp as app\n"
     ]
    },
    {
     "name": "stdout",
     "output_type": "stream",
     "text": [
      "Train Epoch: 1 [0/60000 (0%)]\tLoss: 2.281604\n",
      "Train Epoch: 1 [6400/60000 (11%)]\tLoss: 1.753450\n",
      "Train Epoch: 1 [12800/60000 (21%)]\tLoss: 0.591425\n",
      "Train Epoch: 1 [19200/60000 (32%)]\tLoss: 0.346382\n",
      "Train Epoch: 1 [25600/60000 (43%)]\tLoss: 0.324127\n",
      "Train Epoch: 1 [32000/60000 (53%)]\tLoss: 0.282812\n",
      "Train Epoch: 1 [38400/60000 (64%)]\tLoss: 0.272037\n",
      "Train Epoch: 1 [44800/60000 (75%)]\tLoss: 0.354407\n",
      "Train Epoch: 1 [51200/60000 (85%)]\tLoss: 0.152021\n",
      "Train Epoch: 1 [57600/60000 (96%)]\tLoss: 0.139856\n"
     ]
    },
    {
     "name": "stderr",
     "output_type": "stream",
     "text": [
      "/opt/conda/lib/python3.7/site-packages/ipykernel_launcher.py:6: UserWarning: volatile was removed and now has no effect. Use `with torch.no_grad():` instead.\n",
      "  \n",
      "/opt/conda/lib/python3.7/site-packages/torch/nn/_reduction.py:43: UserWarning: size_average and reduce args will be deprecated, please use reduction='sum' instead.\n",
      "  warnings.warn(warning.format(ret))\n",
      "  5%|▌         | 1/20 [00:48<15:16, 48.24s/it]"
     ]
    },
    {
     "name": "stdout",
     "output_type": "stream",
     "text": [
      "\n",
      "Test set: Average loss: 0.1823, Accuracy: 9458/10000 (9458%)\n",
      "\n",
      "Train Epoch: 2 [0/60000 (0%)]\tLoss: 0.328510\n",
      "Train Epoch: 2 [6400/60000 (11%)]\tLoss: 0.122735\n",
      "Train Epoch: 2 [12800/60000 (21%)]\tLoss: 0.111271\n",
      "Train Epoch: 2 [19200/60000 (32%)]\tLoss: 0.177520\n",
      "Train Epoch: 2 [25600/60000 (43%)]\tLoss: 0.292154\n",
      "Train Epoch: 2 [32000/60000 (53%)]\tLoss: 0.263051\n",
      "Train Epoch: 2 [38400/60000 (64%)]\tLoss: 0.317642\n",
      "Train Epoch: 2 [44800/60000 (75%)]\tLoss: 0.192938\n",
      "Train Epoch: 2 [51200/60000 (85%)]\tLoss: 0.152265\n",
      "Train Epoch: 2 [57600/60000 (96%)]\tLoss: 0.128040\n"
     ]
    },
    {
     "name": "stderr",
     "output_type": "stream",
     "text": [
      "\r",
      " 10%|█         | 2/20 [01:35<14:25, 48.08s/it]"
     ]
    },
    {
     "name": "stdout",
     "output_type": "stream",
     "text": [
      "\n",
      "Test set: Average loss: 0.1324, Accuracy: 9579/10000 (9579%)\n",
      "\n",
      "Train Epoch: 3 [0/60000 (0%)]\tLoss: 0.124370\n",
      "Train Epoch: 3 [6400/60000 (11%)]\tLoss: 0.108330\n",
      "Train Epoch: 3 [12800/60000 (21%)]\tLoss: 0.144034\n",
      "Train Epoch: 3 [19200/60000 (32%)]\tLoss: 0.092795\n",
      "Train Epoch: 3 [25600/60000 (43%)]\tLoss: 0.060056\n",
      "Train Epoch: 3 [32000/60000 (53%)]\tLoss: 0.103534\n",
      "Train Epoch: 3 [38400/60000 (64%)]\tLoss: 0.135712\n",
      "Train Epoch: 3 [44800/60000 (75%)]\tLoss: 0.053609\n",
      "Train Epoch: 3 [51200/60000 (85%)]\tLoss: 0.112078\n",
      "Train Epoch: 3 [57600/60000 (96%)]\tLoss: 0.108843\n"
     ]
    },
    {
     "name": "stderr",
     "output_type": "stream",
     "text": [
      "\r",
      " 15%|█▌        | 3/20 [02:23<13:33, 47.83s/it]"
     ]
    },
    {
     "name": "stdout",
     "output_type": "stream",
     "text": [
      "\n",
      "Test set: Average loss: 0.0956, Accuracy: 9716/10000 (9716%)\n",
      "\n",
      "Train Epoch: 4 [0/60000 (0%)]\tLoss: 0.124013\n",
      "Train Epoch: 4 [6400/60000 (11%)]\tLoss: 0.031747\n",
      "Train Epoch: 4 [12800/60000 (21%)]\tLoss: 0.107757\n",
      "Train Epoch: 4 [19200/60000 (32%)]\tLoss: 0.254691\n",
      "Train Epoch: 4 [25600/60000 (43%)]\tLoss: 0.060665\n",
      "Train Epoch: 4 [32000/60000 (53%)]\tLoss: 0.103775\n",
      "Train Epoch: 4 [38400/60000 (64%)]\tLoss: 0.121014\n",
      "Train Epoch: 4 [44800/60000 (75%)]\tLoss: 0.186476\n",
      "Train Epoch: 4 [51200/60000 (85%)]\tLoss: 0.144312\n",
      "Train Epoch: 4 [57600/60000 (96%)]\tLoss: 0.058547\n"
     ]
    },
    {
     "name": "stderr",
     "output_type": "stream",
     "text": [
      "\r",
      " 20%|██        | 4/20 [03:10<12:42, 47.65s/it]"
     ]
    },
    {
     "name": "stdout",
     "output_type": "stream",
     "text": [
      "\n",
      "Test set: Average loss: 0.0792, Accuracy: 9753/10000 (9753%)\n",
      "\n",
      "Train Epoch: 5 [0/60000 (0%)]\tLoss: 0.135017\n",
      "Train Epoch: 5 [6400/60000 (11%)]\tLoss: 0.039128\n",
      "Train Epoch: 5 [12800/60000 (21%)]\tLoss: 0.045942\n",
      "Train Epoch: 5 [19200/60000 (32%)]\tLoss: 0.026373\n",
      "Train Epoch: 5 [25600/60000 (43%)]\tLoss: 0.121497\n",
      "Train Epoch: 5 [32000/60000 (53%)]\tLoss: 0.061489\n",
      "Train Epoch: 5 [38400/60000 (64%)]\tLoss: 0.044717\n",
      "Train Epoch: 5 [44800/60000 (75%)]\tLoss: 0.190089\n",
      "Train Epoch: 5 [51200/60000 (85%)]\tLoss: 0.036976\n",
      "Train Epoch: 5 [57600/60000 (96%)]\tLoss: 0.076264\n"
     ]
    },
    {
     "name": "stderr",
     "output_type": "stream",
     "text": [
      "\r",
      " 25%|██▌       | 5/20 [03:57<11:53, 47.58s/it]"
     ]
    },
    {
     "name": "stdout",
     "output_type": "stream",
     "text": [
      "\n",
      "Test set: Average loss: 0.0734, Accuracy: 9769/10000 (9769%)\n",
      "\n",
      "Train Epoch: 6 [0/60000 (0%)]\tLoss: 0.056796\n",
      "Train Epoch: 6 [6400/60000 (11%)]\tLoss: 0.099275\n",
      "Train Epoch: 6 [12800/60000 (21%)]\tLoss: 0.083085\n",
      "Train Epoch: 6 [19200/60000 (32%)]\tLoss: 0.031062\n",
      "Train Epoch: 6 [25600/60000 (43%)]\tLoss: 0.065880\n",
      "Train Epoch: 6 [32000/60000 (53%)]\tLoss: 0.087365\n",
      "Train Epoch: 6 [38400/60000 (64%)]\tLoss: 0.016613\n",
      "Train Epoch: 6 [44800/60000 (75%)]\tLoss: 0.043000\n",
      "Train Epoch: 6 [51200/60000 (85%)]\tLoss: 0.016091\n",
      "Train Epoch: 6 [57600/60000 (96%)]\tLoss: 0.146933\n"
     ]
    },
    {
     "name": "stderr",
     "output_type": "stream",
     "text": [
      "\r",
      " 30%|███       | 6/20 [04:43<10:59, 47.12s/it]"
     ]
    },
    {
     "name": "stdout",
     "output_type": "stream",
     "text": [
      "\n",
      "Test set: Average loss: 0.0697, Accuracy: 9795/10000 (9795%)\n",
      "\n",
      "Train Epoch: 7 [0/60000 (0%)]\tLoss: 0.073106\n",
      "Train Epoch: 7 [6400/60000 (11%)]\tLoss: 0.132394\n",
      "Train Epoch: 7 [12800/60000 (21%)]\tLoss: 0.040504\n",
      "Train Epoch: 7 [19200/60000 (32%)]\tLoss: 0.112899\n",
      "Train Epoch: 7 [25600/60000 (43%)]\tLoss: 0.115839\n",
      "Train Epoch: 7 [32000/60000 (53%)]\tLoss: 0.070053\n",
      "Train Epoch: 7 [38400/60000 (64%)]\tLoss: 0.028354\n",
      "Train Epoch: 7 [44800/60000 (75%)]\tLoss: 0.070449\n",
      "Train Epoch: 7 [51200/60000 (85%)]\tLoss: 0.029718\n",
      "Train Epoch: 7 [57600/60000 (96%)]\tLoss: 0.028352\n"
     ]
    },
    {
     "name": "stderr",
     "output_type": "stream",
     "text": [
      "\r",
      " 35%|███▌      | 7/20 [05:29<10:08, 46.79s/it]"
     ]
    },
    {
     "name": "stdout",
     "output_type": "stream",
     "text": [
      "\n",
      "Test set: Average loss: 0.0651, Accuracy: 9809/10000 (9809%)\n",
      "\n",
      "Train Epoch: 8 [0/60000 (0%)]\tLoss: 0.055644\n",
      "Train Epoch: 8 [6400/60000 (11%)]\tLoss: 0.053320\n",
      "Train Epoch: 8 [12800/60000 (21%)]\tLoss: 0.192674\n",
      "Train Epoch: 8 [19200/60000 (32%)]\tLoss: 0.011993\n",
      "Train Epoch: 8 [25600/60000 (43%)]\tLoss: 0.012935\n",
      "Train Epoch: 8 [32000/60000 (53%)]\tLoss: 0.042930\n",
      "Train Epoch: 8 [38400/60000 (64%)]\tLoss: 0.033069\n",
      "Train Epoch: 8 [44800/60000 (75%)]\tLoss: 0.186983\n",
      "Train Epoch: 8 [51200/60000 (85%)]\tLoss: 0.022013\n",
      "Train Epoch: 8 [57600/60000 (96%)]\tLoss: 0.044081\n"
     ]
    },
    {
     "name": "stderr",
     "output_type": "stream",
     "text": [
      "\r",
      " 40%|████      | 8/20 [06:18<09:26, 47.19s/it]"
     ]
    },
    {
     "name": "stdout",
     "output_type": "stream",
     "text": [
      "\n",
      "Test set: Average loss: 0.0611, Accuracy: 9811/10000 (9811%)\n",
      "\n",
      "Train Epoch: 9 [0/60000 (0%)]\tLoss: 0.008385\n",
      "Train Epoch: 9 [6400/60000 (11%)]\tLoss: 0.090705\n",
      "Train Epoch: 9 [12800/60000 (21%)]\tLoss: 0.053843\n",
      "Train Epoch: 9 [19200/60000 (32%)]\tLoss: 0.113755\n",
      "Train Epoch: 9 [25600/60000 (43%)]\tLoss: 0.014340\n",
      "Train Epoch: 9 [32000/60000 (53%)]\tLoss: 0.064048\n",
      "Train Epoch: 9 [38400/60000 (64%)]\tLoss: 0.107042\n",
      "Train Epoch: 9 [44800/60000 (75%)]\tLoss: 0.059895\n",
      "Train Epoch: 9 [51200/60000 (85%)]\tLoss: 0.029288\n",
      "Train Epoch: 9 [57600/60000 (96%)]\tLoss: 0.122575\n"
     ]
    },
    {
     "name": "stderr",
     "output_type": "stream",
     "text": [
      "\r",
      " 45%|████▌     | 9/20 [07:05<08:38, 47.17s/it]"
     ]
    },
    {
     "name": "stdout",
     "output_type": "stream",
     "text": [
      "\n",
      "Test set: Average loss: 0.0568, Accuracy: 9821/10000 (9821%)\n",
      "\n",
      "Train Epoch: 10 [0/60000 (0%)]\tLoss: 0.042346\n",
      "Train Epoch: 10 [6400/60000 (11%)]\tLoss: 0.016629\n",
      "Train Epoch: 10 [12800/60000 (21%)]\tLoss: 0.014050\n",
      "Train Epoch: 10 [19200/60000 (32%)]\tLoss: 0.057512\n",
      "Train Epoch: 10 [25600/60000 (43%)]\tLoss: 0.006512\n",
      "Train Epoch: 10 [32000/60000 (53%)]\tLoss: 0.086876\n",
      "Train Epoch: 10 [38400/60000 (64%)]\tLoss: 0.014761\n",
      "Train Epoch: 10 [44800/60000 (75%)]\tLoss: 0.022723\n",
      "Train Epoch: 10 [51200/60000 (85%)]\tLoss: 0.047865\n",
      "Train Epoch: 10 [57600/60000 (96%)]\tLoss: 0.018898\n"
     ]
    },
    {
     "name": "stderr",
     "output_type": "stream",
     "text": [
      "\r",
      " 50%|█████     | 10/20 [07:51<07:50, 47.01s/it]"
     ]
    },
    {
     "name": "stdout",
     "output_type": "stream",
     "text": [
      "\n",
      "Test set: Average loss: 0.0577, Accuracy: 9807/10000 (9807%)\n",
      "\n",
      "Train Epoch: 11 [0/60000 (0%)]\tLoss: 0.068650\n",
      "Train Epoch: 11 [6400/60000 (11%)]\tLoss: 0.020694\n",
      "Train Epoch: 11 [12800/60000 (21%)]\tLoss: 0.109411\n",
      "Train Epoch: 11 [19200/60000 (32%)]\tLoss: 0.068682\n",
      "Train Epoch: 11 [25600/60000 (43%)]\tLoss: 0.012919\n",
      "Train Epoch: 11 [32000/60000 (53%)]\tLoss: 0.053391\n",
      "Train Epoch: 11 [38400/60000 (64%)]\tLoss: 0.025951\n",
      "Train Epoch: 11 [44800/60000 (75%)]\tLoss: 0.069147\n",
      "Train Epoch: 11 [51200/60000 (85%)]\tLoss: 0.021946\n",
      "Train Epoch: 11 [57600/60000 (96%)]\tLoss: 0.052625\n"
     ]
    },
    {
     "name": "stderr",
     "output_type": "stream",
     "text": [
      "\r",
      " 55%|█████▌    | 11/20 [08:38<07:01, 46.86s/it]"
     ]
    },
    {
     "name": "stdout",
     "output_type": "stream",
     "text": [
      "\n",
      "Test set: Average loss: 0.0511, Accuracy: 9848/10000 (9848%)\n",
      "\n",
      "Train Epoch: 12 [0/60000 (0%)]\tLoss: 0.005838\n",
      "Train Epoch: 12 [6400/60000 (11%)]\tLoss: 0.064544\n",
      "Train Epoch: 12 [12800/60000 (21%)]\tLoss: 0.061974\n",
      "Train Epoch: 12 [19200/60000 (32%)]\tLoss: 0.013750\n",
      "Train Epoch: 12 [25600/60000 (43%)]\tLoss: 0.043231\n",
      "Train Epoch: 12 [32000/60000 (53%)]\tLoss: 0.030093\n",
      "Train Epoch: 12 [38400/60000 (64%)]\tLoss: 0.119869\n",
      "Train Epoch: 12 [44800/60000 (75%)]\tLoss: 0.087667\n",
      "Train Epoch: 12 [51200/60000 (85%)]\tLoss: 0.026439\n",
      "Train Epoch: 12 [57600/60000 (96%)]\tLoss: 0.038113\n"
     ]
    },
    {
     "name": "stderr",
     "output_type": "stream",
     "text": [
      "\r",
      " 60%|██████    | 12/20 [09:25<06:14, 46.85s/it]"
     ]
    },
    {
     "name": "stdout",
     "output_type": "stream",
     "text": [
      "\n",
      "Test set: Average loss: 0.0463, Accuracy: 9854/10000 (9854%)\n",
      "\n",
      "Train Epoch: 13 [0/60000 (0%)]\tLoss: 0.030080\n",
      "Train Epoch: 13 [6400/60000 (11%)]\tLoss: 0.012866\n",
      "Train Epoch: 13 [12800/60000 (21%)]\tLoss: 0.050546\n",
      "Train Epoch: 13 [19200/60000 (32%)]\tLoss: 0.048703\n",
      "Train Epoch: 13 [25600/60000 (43%)]\tLoss: 0.027932\n",
      "Train Epoch: 13 [32000/60000 (53%)]\tLoss: 0.048167\n",
      "Train Epoch: 13 [38400/60000 (64%)]\tLoss: 0.035738\n",
      "Train Epoch: 13 [44800/60000 (75%)]\tLoss: 0.093581\n",
      "Train Epoch: 13 [51200/60000 (85%)]\tLoss: 0.022314\n",
      "Train Epoch: 13 [57600/60000 (96%)]\tLoss: 0.019012\n"
     ]
    },
    {
     "name": "stderr",
     "output_type": "stream",
     "text": [
      "\r",
      " 65%|██████▌   | 13/20 [10:11<05:27, 46.74s/it]"
     ]
    },
    {
     "name": "stdout",
     "output_type": "stream",
     "text": [
      "\n",
      "Test set: Average loss: 0.0486, Accuracy: 9850/10000 (9850%)\n",
      "\n",
      "Train Epoch: 14 [0/60000 (0%)]\tLoss: 0.012633\n",
      "Train Epoch: 14 [6400/60000 (11%)]\tLoss: 0.020600\n",
      "Train Epoch: 14 [12800/60000 (21%)]\tLoss: 0.015533\n",
      "Train Epoch: 14 [19200/60000 (32%)]\tLoss: 0.034315\n",
      "Train Epoch: 14 [25600/60000 (43%)]\tLoss: 0.018703\n",
      "Train Epoch: 14 [32000/60000 (53%)]\tLoss: 0.087834\n",
      "Train Epoch: 14 [38400/60000 (64%)]\tLoss: 0.094213\n",
      "Train Epoch: 14 [44800/60000 (75%)]\tLoss: 0.035986\n",
      "Train Epoch: 14 [51200/60000 (85%)]\tLoss: 0.019165\n",
      "Train Epoch: 14 [57600/60000 (96%)]\tLoss: 0.017370\n"
     ]
    },
    {
     "name": "stderr",
     "output_type": "stream",
     "text": [
      "\r",
      " 70%|███████   | 14/20 [10:58<04:40, 46.67s/it]"
     ]
    },
    {
     "name": "stdout",
     "output_type": "stream",
     "text": [
      "\n",
      "Test set: Average loss: 0.0442, Accuracy: 9857/10000 (9857%)\n",
      "\n",
      "Train Epoch: 15 [0/60000 (0%)]\tLoss: 0.048000\n",
      "Train Epoch: 15 [6400/60000 (11%)]\tLoss: 0.012079\n",
      "Train Epoch: 15 [12800/60000 (21%)]\tLoss: 0.029104\n",
      "Train Epoch: 15 [19200/60000 (32%)]\tLoss: 0.041176\n",
      "Train Epoch: 15 [25600/60000 (43%)]\tLoss: 0.026378\n",
      "Train Epoch: 15 [32000/60000 (53%)]\tLoss: 0.072891\n",
      "Train Epoch: 15 [38400/60000 (64%)]\tLoss: 0.017140\n",
      "Train Epoch: 15 [44800/60000 (75%)]\tLoss: 0.090922\n",
      "Train Epoch: 15 [51200/60000 (85%)]\tLoss: 0.171032\n",
      "Train Epoch: 15 [57600/60000 (96%)]\tLoss: 0.077376\n"
     ]
    },
    {
     "name": "stderr",
     "output_type": "stream",
     "text": [
      "\r",
      " 75%|███████▌  | 15/20 [11:44<03:53, 46.69s/it]"
     ]
    },
    {
     "name": "stdout",
     "output_type": "stream",
     "text": [
      "\n",
      "Test set: Average loss: 0.0462, Accuracy: 9864/10000 (9864%)\n",
      "\n",
      "Train Epoch: 16 [0/60000 (0%)]\tLoss: 0.100887\n",
      "Train Epoch: 16 [6400/60000 (11%)]\tLoss: 0.035004\n",
      "Train Epoch: 16 [12800/60000 (21%)]\tLoss: 0.106131\n",
      "Train Epoch: 16 [19200/60000 (32%)]\tLoss: 0.024153\n",
      "Train Epoch: 16 [25600/60000 (43%)]\tLoss: 0.106754\n",
      "Train Epoch: 16 [32000/60000 (53%)]\tLoss: 0.027814\n",
      "Train Epoch: 16 [38400/60000 (64%)]\tLoss: 0.021185\n",
      "Train Epoch: 16 [44800/60000 (75%)]\tLoss: 0.057463\n",
      "Train Epoch: 16 [51200/60000 (85%)]\tLoss: 0.075510\n",
      "Train Epoch: 16 [57600/60000 (96%)]\tLoss: 0.073660\n"
     ]
    },
    {
     "name": "stderr",
     "output_type": "stream",
     "text": [
      "\r",
      " 80%|████████  | 16/20 [12:32<03:07, 46.87s/it]"
     ]
    },
    {
     "name": "stdout",
     "output_type": "stream",
     "text": [
      "\n",
      "Test set: Average loss: 0.0434, Accuracy: 9864/10000 (9864%)\n",
      "\n",
      "Train Epoch: 17 [0/60000 (0%)]\tLoss: 0.028010\n",
      "Train Epoch: 17 [6400/60000 (11%)]\tLoss: 0.018243\n",
      "Train Epoch: 17 [12800/60000 (21%)]\tLoss: 0.010874\n",
      "Train Epoch: 17 [19200/60000 (32%)]\tLoss: 0.031479\n",
      "Train Epoch: 17 [25600/60000 (43%)]\tLoss: 0.045656\n",
      "Train Epoch: 17 [32000/60000 (53%)]\tLoss: 0.076763\n",
      "Train Epoch: 17 [38400/60000 (64%)]\tLoss: 0.046244\n",
      "Train Epoch: 17 [44800/60000 (75%)]\tLoss: 0.009240\n",
      "Train Epoch: 17 [51200/60000 (85%)]\tLoss: 0.026695\n",
      "Train Epoch: 17 [57600/60000 (96%)]\tLoss: 0.002260\n"
     ]
    },
    {
     "name": "stderr",
     "output_type": "stream",
     "text": [
      "\r",
      " 85%|████████▌ | 17/20 [13:18<02:20, 46.69s/it]"
     ]
    },
    {
     "name": "stdout",
     "output_type": "stream",
     "text": [
      "\n",
      "Test set: Average loss: 0.0472, Accuracy: 9844/10000 (9844%)\n",
      "\n",
      "Train Epoch: 18 [0/60000 (0%)]\tLoss: 0.041418\n",
      "Train Epoch: 18 [6400/60000 (11%)]\tLoss: 0.047464\n",
      "Train Epoch: 18 [12800/60000 (21%)]\tLoss: 0.006182\n",
      "Train Epoch: 18 [19200/60000 (32%)]\tLoss: 0.113613\n",
      "Train Epoch: 18 [25600/60000 (43%)]\tLoss: 0.025447\n",
      "Train Epoch: 18 [32000/60000 (53%)]\tLoss: 0.013436\n",
      "Train Epoch: 18 [38400/60000 (64%)]\tLoss: 0.019173\n",
      "Train Epoch: 18 [44800/60000 (75%)]\tLoss: 0.015538\n",
      "Train Epoch: 18 [51200/60000 (85%)]\tLoss: 0.040583\n",
      "Train Epoch: 18 [57600/60000 (96%)]\tLoss: 0.156350\n"
     ]
    },
    {
     "name": "stderr",
     "output_type": "stream",
     "text": [
      "\r",
      " 90%|█████████ | 18/20 [14:04<01:32, 46.44s/it]"
     ]
    },
    {
     "name": "stdout",
     "output_type": "stream",
     "text": [
      "\n",
      "Test set: Average loss: 0.0486, Accuracy: 9842/10000 (9842%)\n",
      "\n",
      "Train Epoch: 19 [0/60000 (0%)]\tLoss: 0.005449\n",
      "Train Epoch: 19 [6400/60000 (11%)]\tLoss: 0.033868\n",
      "Train Epoch: 19 [12800/60000 (21%)]\tLoss: 0.026057\n",
      "Train Epoch: 19 [19200/60000 (32%)]\tLoss: 0.059282\n",
      "Train Epoch: 19 [25600/60000 (43%)]\tLoss: 0.022270\n",
      "Train Epoch: 19 [32000/60000 (53%)]\tLoss: 0.066404\n",
      "Train Epoch: 19 [38400/60000 (64%)]\tLoss: 0.051747\n",
      "Train Epoch: 19 [44800/60000 (75%)]\tLoss: 0.044481\n",
      "Train Epoch: 19 [51200/60000 (85%)]\tLoss: 0.016437\n",
      "Train Epoch: 19 [57600/60000 (96%)]\tLoss: 0.004512\n"
     ]
    },
    {
     "name": "stderr",
     "output_type": "stream",
     "text": [
      "\r",
      " 95%|█████████▌| 19/20 [14:52<00:46, 46.89s/it]"
     ]
    },
    {
     "name": "stdout",
     "output_type": "stream",
     "text": [
      "\n",
      "Test set: Average loss: 0.0452, Accuracy: 9849/10000 (9849%)\n",
      "\n",
      "Train Epoch: 20 [0/60000 (0%)]\tLoss: 0.035284\n",
      "Train Epoch: 20 [6400/60000 (11%)]\tLoss: 0.012196\n",
      "Train Epoch: 20 [12800/60000 (21%)]\tLoss: 0.012385\n",
      "Train Epoch: 20 [19200/60000 (32%)]\tLoss: 0.014966\n",
      "Train Epoch: 20 [25600/60000 (43%)]\tLoss: 0.069989\n",
      "Train Epoch: 20 [32000/60000 (53%)]\tLoss: 0.014589\n",
      "Train Epoch: 20 [38400/60000 (64%)]\tLoss: 0.015002\n",
      "Train Epoch: 20 [44800/60000 (75%)]\tLoss: 0.008982\n",
      "Train Epoch: 20 [51200/60000 (85%)]\tLoss: 0.054384\n",
      "Train Epoch: 20 [57600/60000 (96%)]\tLoss: 0.059584\n"
     ]
    },
    {
     "name": "stderr",
     "output_type": "stream",
     "text": [
      "\r",
      "100%|██████████| 20/20 [15:39<00:00, 46.87s/it]"
     ]
    },
    {
     "name": "stdout",
     "output_type": "stream",
     "text": [
      "\n",
      "Test set: Average loss: 0.0480, Accuracy: 9846/10000 (9846%)\n",
      "\n"
     ]
    },
    {
     "name": "stderr",
     "output_type": "stream",
     "text": [
      "\n"
     ]
    },
    {
     "data": {
      "image/png": "[encoded data removed]",
      "text/plain": [
       "<Figure size 432x288 with 1 Axes>"
      ]
     },
     "metadata": {
      "needs_background": "light"
     },
     "output_type": "display_data"
    },
    {
     "data": {
      "image/png": "[encoded data removed]",
      "text/plain": [
       "<Figure size 432x288 with 1 Axes>"
      ]
     },
     "metadata": {
      "needs_background": "light"
     },
     "output_type": "display_data"
    },
    {
     "data": {
      "image/png": "[encoded data removed]",
      "text/plain": [
       "<Figure size 432x288 with 1 Axes>"
      ]
     },
     "metadata": {
      "needs_background": "light"
     },
     "output_type": "display_data"
    }
   ],
   "source": [
    "train_losses = []\n",
    "test_losses =[]\n",
    "test_accuracy = []\n",
    "\n",
    "from tqdm import tqdm\n",
    "for epoch in tqdm(range(1, 21)):\n",
    "    train(epoch)\n",
    "    test()\n",
    "    \n",
    "plt.figure()\n",
    "plt.plot(train_losses)\n",
    "plt.title('train losses')\n",
    "plt.xlabel('Epoch')\n",
    "plt.ylabel('percent')\n",
    "plt.grid(True)\n",
    "\n",
    "plt.figure()\n",
    "plt.plot(test_losses)\n",
    "plt.title('test losses')\n",
    "plt.xlabel('Epoch')\n",
    "plt.ylabel('percent')\n",
    "plt.grid(True)\n",
    "\n",
    "plt.figure()\n",
    "plt.plot(test_accuracy)\n",
    "plt.title('test_accuracy')\n",
    "plt.xlabel('Epoch')\n",
    "plt.ylabel('percent')\n",
    "plt.grid(True)"
   ]
  },
  {
   "cell_type": "markdown",
   "metadata": {},
   "source": [
    "- Both training and test error with iterations are getting slightly enhanced. "
   ]
  },
  {
   "cell_type": "markdown",
   "metadata": {},
   "source": [
    "## 3.4 Different network architecture - LeNet"
   ]
  },
  {
   "cell_type": "code",
   "execution_count": 48,
   "metadata": {},
   "outputs": [],
   "source": [
    "import torch\n",
    "import torch.nn as nn\n",
    "import torchvision.datasets as dset\n",
    "import torchvision.transforms as transforms\n",
    "from torch.autograd import Variable\n",
    "import torch.nn.functional as F\n",
    "import torch.optim as optim\n",
    "import matplotlib.pyplot as plt"
   ]
  },
  {
   "cell_type": "code",
   "execution_count": 49,
   "metadata": {},
   "outputs": [],
   "source": [
    "trans = transforms.Compose([transforms.ToTensor(), transforms.Normalize((0.5,), (1.0,))])\n",
    "train_set = dset.MNIST(root='./data', train=True, transform=trans, download=True)\n",
    "test_set = dset.MNIST(root='./data', train=False, transform=trans)\n",
    "batch_size = 32\n",
    "\n",
    "train_loader = torch.utils.data.DataLoader(dataset=train_set,batch_size=batch_size,shuffle=True)\n",
    "test_loader = torch.utils.data.DataLoader(dataset=test_set,batch_size=batch_size,shuffle=False)"
   ]
  },
  {
   "cell_type": "code",
   "execution_count": 50,
   "metadata": {},
   "outputs": [],
   "source": [
    "class LeNet(nn.Module):\n",
    "    def __init__(self):\n",
    "        super(LeNet, self).__init__()\n",
    "        self.conv1 = nn.Conv2d(1, 10, kernel_size=5)\n",
    "        self.conv2 = nn.Conv2d(10, 20, kernel_size=5)\n",
    "        self.conv2_drop = nn.Dropout2d()\n",
    "        self.fc1 = nn.Linear(320, 50)\n",
    "        self.fc2 = nn.Linear(50, 10)\n",
    "\n",
    "    def forward(self, x):\n",
    "        x = F.relu(F.max_pool2d(self.conv1(x), 2))\n",
    "        x = F.relu(F.max_pool2d(self.conv2_drop(self.conv2(x)), 2))\n",
    "        x = x.view(-1, 320)\n",
    "        x = F.relu(self.fc1(x))\n",
    "        x = F.dropout(x, training=self.training)\n",
    "        x = self.fc2(x)\n",
    "        return F.log_softmax(x, dim=1)"
   ]
  },
  {
   "cell_type": "code",
   "execution_count": 51,
   "metadata": {},
   "outputs": [],
   "source": [
    "def train(epoch):\n",
    "    model.train()\n",
    "    for batch_idx, (data, target) in enumerate(train_loader):\n",
    "        if torch.cuda.is_available():\n",
    "            data, target = data.cuda(), target.cuda()\n",
    "        data, target = Variable(data), Variable(target)\n",
    "        optimizer.zero_grad()\n",
    "        output = model(data)\n",
    "        loss = F.cross_entropy(output, target)\n",
    "        train_losses.append(loss.item())\n",
    "        loss.backward()\n",
    "        optimizer.step()\n",
    "        if batch_idx % 100 == 0:\n",
    "            print('\\rEpoch: {} {:.0f}%\\t     Loss: {:.6f}'.format(\n",
    "                epoch,\n",
    "                100. * batch_idx / len(train_loader), loss.item()), end='')"
   ]
  },
  {
   "cell_type": "code",
   "execution_count": 52,
   "metadata": {},
   "outputs": [],
   "source": [
    "def test():\n",
    "    model.eval()\n",
    "    test_loss = 0\n",
    "    correct = 0\n",
    "    for data, target in test_loader:\n",
    "        if torch.cuda.is_available():\n",
    "            data, target = data.cuda(), target.cuda()\n",
    "        data, target = Variable(data, volatile=True), Variable(target)\n",
    "        output = model(data)\n",
    "        test_loss += F.cross_entropy(output, target, size_average=False).item()\n",
    "        pred = output.data.max(1, keepdim=True)[1] # get the index of the max log-probability\n",
    "        correct += pred.eq(target.data.view_as(pred)).long().cpu().sum() \n",
    "    \n",
    "    test_loss /= len(test_loader.dataset)\n",
    "    test_losses.append(test_loss)\n",
    "    acc=100. * float(correct.to(torch.device('cpu')).numpy())\n",
    "    print('\\nTest result: Average loss: {:.4f}, Accuracy: {:.4f}%\\n'.format(\n",
    "        test_loss, acc / len(test_loader.dataset)))\n",
    "    \n",
    "    test_accuracy.append(acc / len(test_loader.dataset))\n"
   ]
  },
  {
   "cell_type": "code",
   "execution_count": 53,
   "metadata": {
    "scrolled": false
   },
   "outputs": [
    {
     "name": "stderr",
     "output_type": "stream",
     "text": [
      "\r",
      "  0%|          | 0/30 [00:00<?, ?it/s]"
     ]
    },
    {
     "name": "stdout",
     "output_type": "stream",
     "text": [
      "Epoch: 1 96%\t     Loss: 0.560400"
     ]
    },
    {
     "name": "stderr",
     "output_type": "stream",
     "text": [
      "/opt/conda/lib/python3.7/site-packages/ipykernel_launcher.py:8: UserWarning: volatile was removed and now has no effect. Use `with torch.no_grad():` instead.\n",
      "  \n",
      "  3%|▎         | 1/30 [00:19<09:32, 19.74s/it]"
     ]
    },
    {
     "name": "stdout",
     "output_type": "stream",
     "text": [
      "\n",
      "Test result: Average loss: 0.3585, Accuracy: 89.9800%\n",
      "\n",
      "Epoch: 2 96%\t     Loss: 0.192723"
     ]
    },
    {
     "name": "stderr",
     "output_type": "stream",
     "text": [
      "\r",
      "  7%|▋         | 2/30 [00:39<09:13, 19.76s/it]"
     ]
    },
    {
     "name": "stdout",
     "output_type": "stream",
     "text": [
      "\n",
      "Test result: Average loss: 0.2097, Accuracy: 93.4100%\n",
      "\n",
      "Epoch: 3 96%\t     Loss: 0.544508"
     ]
    },
    {
     "name": "stderr",
     "output_type": "stream",
     "text": [
      "\r",
      " 10%|█         | 3/30 [00:59<08:57, 19.90s/it]"
     ]
    },
    {
     "name": "stdout",
     "output_type": "stream",
     "text": [
      "\n",
      "Test result: Average loss: 0.1622, Accuracy: 94.9100%\n",
      "\n",
      "Epoch: 4 96%\t     Loss: 0.576473"
     ]
    },
    {
     "name": "stderr",
     "output_type": "stream",
     "text": [
      "\r",
      " 13%|█▎        | 4/30 [01:19<08:38, 19.95s/it]"
     ]
    },
    {
     "name": "stdout",
     "output_type": "stream",
     "text": [
      "\n",
      "Test result: Average loss: 0.1327, Accuracy: 95.9700%\n",
      "\n",
      "Epoch: 5 96%\t     Loss: 0.266748"
     ]
    },
    {
     "name": "stderr",
     "output_type": "stream",
     "text": [
      "\r",
      " 17%|█▋        | 5/30 [01:39<08:17, 19.88s/it]"
     ]
    },
    {
     "name": "stdout",
     "output_type": "stream",
     "text": [
      "\n",
      "Test result: Average loss: 0.1130, Accuracy: 96.3900%\n",
      "\n",
      "Epoch: 6 96%\t     Loss: 0.152597"
     ]
    },
    {
     "name": "stderr",
     "output_type": "stream",
     "text": [
      "\r",
      " 20%|██        | 6/30 [02:00<08:02, 20.10s/it]"
     ]
    },
    {
     "name": "stdout",
     "output_type": "stream",
     "text": [
      "\n",
      "Test result: Average loss: 0.0992, Accuracy: 96.8400%\n",
      "\n",
      "Epoch: 7 96%\t     Loss: 0.444732"
     ]
    },
    {
     "name": "stderr",
     "output_type": "stream",
     "text": [
      "\r",
      " 23%|██▎       | 7/30 [02:19<07:38, 19.93s/it]"
     ]
    },
    {
     "name": "stdout",
     "output_type": "stream",
     "text": [
      "\n",
      "Test result: Average loss: 0.0918, Accuracy: 97.1000%\n",
      "\n",
      "Epoch: 8 96%\t     Loss: 0.255403"
     ]
    },
    {
     "name": "stderr",
     "output_type": "stream",
     "text": [
      "\r",
      " 27%|██▋       | 8/30 [02:39<07:19, 19.96s/it]"
     ]
    },
    {
     "name": "stdout",
     "output_type": "stream",
     "text": [
      "\n",
      "Test result: Average loss: 0.0854, Accuracy: 97.2100%\n",
      "\n",
      "Epoch: 9 96%\t     Loss: 0.123484"
     ]
    },
    {
     "name": "stderr",
     "output_type": "stream",
     "text": [
      "\r",
      " 30%|███       | 9/30 [02:58<06:54, 19.74s/it]"
     ]
    },
    {
     "name": "stdout",
     "output_type": "stream",
     "text": [
      "\n",
      "Test result: Average loss: 0.0804, Accuracy: 97.5400%\n",
      "\n",
      "Epoch: 10 96%\t     Loss: 0.418725"
     ]
    },
    {
     "name": "stderr",
     "output_type": "stream",
     "text": [
      "\r",
      " 33%|███▎      | 10/30 [03:17<06:29, 19.46s/it]"
     ]
    },
    {
     "name": "stdout",
     "output_type": "stream",
     "text": [
      "\n",
      "Test result: Average loss: 0.0771, Accuracy: 97.5800%\n",
      "\n",
      "Epoch: 11 96%\t     Loss: 0.210911"
     ]
    },
    {
     "name": "stderr",
     "output_type": "stream",
     "text": [
      "\r",
      " 37%|███▋      | 11/30 [03:35<06:02, 19.08s/it]"
     ]
    },
    {
     "name": "stdout",
     "output_type": "stream",
     "text": [
      "\n",
      "Test result: Average loss: 0.0697, Accuracy: 97.7900%\n",
      "\n",
      "Epoch: 12 96%\t     Loss: 0.540525"
     ]
    },
    {
     "name": "stderr",
     "output_type": "stream",
     "text": [
      "\r",
      " 40%|████      | 12/30 [03:54<05:40, 18.90s/it]"
     ]
    },
    {
     "name": "stdout",
     "output_type": "stream",
     "text": [
      "\n",
      "Test result: Average loss: 0.0663, Accuracy: 97.8200%\n",
      "\n",
      "Epoch: 13 96%\t     Loss: 0.354333"
     ]
    },
    {
     "name": "stderr",
     "output_type": "stream",
     "text": [
      "\r",
      " 43%|████▎     | 13/30 [04:13<05:21, 18.91s/it]"
     ]
    },
    {
     "name": "stdout",
     "output_type": "stream",
     "text": [
      "\n",
      "Test result: Average loss: 0.0629, Accuracy: 97.9700%\n",
      "\n",
      "Epoch: 14 96%\t     Loss: 0.256937"
     ]
    },
    {
     "name": "stderr",
     "output_type": "stream",
     "text": [
      "\r",
      " 47%|████▋     | 14/30 [04:32<05:01, 18.85s/it]"
     ]
    },
    {
     "name": "stdout",
     "output_type": "stream",
     "text": [
      "\n",
      "Test result: Average loss: 0.0632, Accuracy: 97.9800%\n",
      "\n",
      "Epoch: 15 96%\t     Loss: 0.069305"
     ]
    },
    {
     "name": "stderr",
     "output_type": "stream",
     "text": [
      "\r",
      " 50%|█████     | 15/30 [04:50<04:40, 18.69s/it]"
     ]
    },
    {
     "name": "stdout",
     "output_type": "stream",
     "text": [
      "\n",
      "Test result: Average loss: 0.0601, Accuracy: 98.0500%\n",
      "\n",
      "Epoch: 16 96%\t     Loss: 0.069799"
     ]
    },
    {
     "name": "stderr",
     "output_type": "stream",
     "text": [
      "\r",
      " 53%|█████▎    | 16/30 [05:08<04:20, 18.61s/it]"
     ]
    },
    {
     "name": "stdout",
     "output_type": "stream",
     "text": [
      "\n",
      "Test result: Average loss: 0.0578, Accuracy: 98.0400%\n",
      "\n",
      "Epoch: 17 96%\t     Loss: 0.135962"
     ]
    },
    {
     "name": "stderr",
     "output_type": "stream",
     "text": [
      "\r",
      " 57%|█████▋    | 17/30 [05:27<04:02, 18.66s/it]"
     ]
    },
    {
     "name": "stdout",
     "output_type": "stream",
     "text": [
      "\n",
      "Test result: Average loss: 0.0552, Accuracy: 98.3000%\n",
      "\n",
      "Epoch: 18 96%\t     Loss: 0.076777"
     ]
    },
    {
     "name": "stderr",
     "output_type": "stream",
     "text": [
      "\r",
      " 60%|██████    | 18/30 [05:45<03:42, 18.53s/it]"
     ]
    },
    {
     "name": "stdout",
     "output_type": "stream",
     "text": [
      "\n",
      "Test result: Average loss: 0.0550, Accuracy: 98.2400%\n",
      "\n",
      "Epoch: 19 96%\t     Loss: 0.136008"
     ]
    },
    {
     "name": "stderr",
     "output_type": "stream",
     "text": [
      "\r",
      " 63%|██████▎   | 19/30 [06:02<03:18, 18.09s/it]"
     ]
    },
    {
     "name": "stdout",
     "output_type": "stream",
     "text": [
      "\n",
      "Test result: Average loss: 0.0524, Accuracy: 98.4200%\n",
      "\n",
      "Epoch: 20 96%\t     Loss: 0.118022"
     ]
    },
    {
     "name": "stderr",
     "output_type": "stream",
     "text": [
      "\r",
      " 67%|██████▋   | 20/30 [06:20<02:59, 17.97s/it]"
     ]
    },
    {
     "name": "stdout",
     "output_type": "stream",
     "text": [
      "\n",
      "Test result: Average loss: 0.0517, Accuracy: 98.4200%\n",
      "\n",
      "Epoch: 21 96%\t     Loss: 0.176764"
     ]
    },
    {
     "name": "stderr",
     "output_type": "stream",
     "text": [
      "\r",
      " 70%|███████   | 21/30 [06:39<02:43, 18.22s/it]"
     ]
    },
    {
     "name": "stdout",
     "output_type": "stream",
     "text": [
      "\n",
      "Test result: Average loss: 0.0493, Accuracy: 98.4600%\n",
      "\n",
      "Epoch: 22 96%\t     Loss: 0.108407"
     ]
    },
    {
     "name": "stderr",
     "output_type": "stream",
     "text": [
      "\r",
      " 73%|███████▎  | 22/30 [06:57<02:25, 18.16s/it]"
     ]
    },
    {
     "name": "stdout",
     "output_type": "stream",
     "text": [
      "\n",
      "Test result: Average loss: 0.0483, Accuracy: 98.4600%\n",
      "\n",
      "Epoch: 23 96%\t     Loss: 0.087305"
     ]
    },
    {
     "name": "stderr",
     "output_type": "stream",
     "text": [
      "\r",
      " 77%|███████▋  | 23/30 [07:15<02:06, 18.06s/it]"
     ]
    },
    {
     "name": "stdout",
     "output_type": "stream",
     "text": [
      "\n",
      "Test result: Average loss: 0.0501, Accuracy: 98.5000%\n",
      "\n",
      "Epoch: 24 96%\t     Loss: 0.299701"
     ]
    },
    {
     "name": "stderr",
     "output_type": "stream",
     "text": [
      "\r",
      " 80%|████████  | 24/30 [07:33<01:49, 18.23s/it]"
     ]
    },
    {
     "name": "stdout",
     "output_type": "stream",
     "text": [
      "\n",
      "Test result: Average loss: 0.0460, Accuracy: 98.5500%\n",
      "\n",
      "Epoch: 25 96%\t     Loss: 0.122734"
     ]
    },
    {
     "name": "stderr",
     "output_type": "stream",
     "text": [
      "\r",
      " 83%|████████▎ | 25/30 [07:52<01:31, 18.30s/it]"
     ]
    },
    {
     "name": "stdout",
     "output_type": "stream",
     "text": [
      "\n",
      "Test result: Average loss: 0.0463, Accuracy: 98.5600%\n",
      "\n",
      "Epoch: 26 96%\t     Loss: 0.131053"
     ]
    },
    {
     "name": "stderr",
     "output_type": "stream",
     "text": [
      "\r",
      " 87%|████████▋ | 26/30 [08:09<01:12, 18.12s/it]"
     ]
    },
    {
     "name": "stdout",
     "output_type": "stream",
     "text": [
      "\n",
      "Test result: Average loss: 0.0432, Accuracy: 98.6100%\n",
      "\n",
      "Epoch: 27 96%\t     Loss: 0.221591"
     ]
    },
    {
     "name": "stderr",
     "output_type": "stream",
     "text": [
      "\r",
      " 90%|█████████ | 27/30 [08:27<00:54, 18.07s/it]"
     ]
    },
    {
     "name": "stdout",
     "output_type": "stream",
     "text": [
      "\n",
      "Test result: Average loss: 0.0440, Accuracy: 98.5400%\n",
      "\n",
      "Epoch: 28 96%\t     Loss: 0.056607"
     ]
    },
    {
     "name": "stderr",
     "output_type": "stream",
     "text": [
      "\r",
      " 93%|█████████▎| 28/30 [08:45<00:35, 17.99s/it]"
     ]
    },
    {
     "name": "stdout",
     "output_type": "stream",
     "text": [
      "\n",
      "Test result: Average loss: 0.0410, Accuracy: 98.6400%\n",
      "\n",
      "Epoch: 29 96%\t     Loss: 0.230886"
     ]
    },
    {
     "name": "stderr",
     "output_type": "stream",
     "text": [
      "\r",
      " 97%|█████████▋| 29/30 [09:04<00:18, 18.27s/it]"
     ]
    },
    {
     "name": "stdout",
     "output_type": "stream",
     "text": [
      "\n",
      "Test result: Average loss: 0.0436, Accuracy: 98.5200%\n",
      "\n",
      "Epoch: 30 96%\t     Loss: 0.085373"
     ]
    },
    {
     "name": "stderr",
     "output_type": "stream",
     "text": [
      "\r",
      "100%|██████████| 30/30 [09:22<00:00, 18.19s/it]"
     ]
    },
    {
     "name": "stdout",
     "output_type": "stream",
     "text": [
      "\n",
      "Test result: Average loss: 0.0403, Accuracy: 98.6200%\n",
      "\n"
     ]
    },
    {
     "name": "stderr",
     "output_type": "stream",
     "text": [
      "\n"
     ]
    },
    {
     "data": {
      "image/png": "[encoded data removed]",
      "text/plain": [
       "<Figure size 432x288 with 1 Axes>"
      ]
     },
     "metadata": {
      "needs_background": "light"
     },
     "output_type": "display_data"
    },
    {
     "data": {
      "image/png": "[encoded data removed]",
      "text/plain": [
       "<Figure size 432x288 with 1 Axes>"
      ]
     },
     "metadata": {
      "needs_background": "light"
     },
     "output_type": "display_data"
    },
    {
     "data": {
      "image/png": "[encoded data removed]",
      "text/plain": [
       "<Figure size 432x288 with 1 Axes>"
      ]
     },
     "metadata": {
      "needs_background": "light"
     },
     "output_type": "display_data"
    }
   ],
   "source": [
    "model = LeNet()\n",
    "if torch.cuda.is_available():\n",
    "    model.cuda()\n",
    "        \n",
    "optimizer = optim.SGD(model.parameters(), lr=0.01) #0.0001\n",
    "\n",
    "train_losses = []\n",
    "test_losses =[]\n",
    "test_accuracy = []\n",
    "for epoch in tqdm(range(1, 31)):\n",
    "    train(epoch)\n",
    "    test()\n",
    "plt.figure()\n",
    "plt.plot(train_losses)\n",
    "plt.title('train losses')\n",
    "plt.xlabel('Epoch')\n",
    "plt.ylabel('percent')\n",
    "plt.grid(True)\n",
    "\n",
    "plt.figure()\n",
    "plt.plot(test_losses)\n",
    "plt.title('test losses')\n",
    "plt.xlabel('Epoch')\n",
    "plt.ylabel('percent')\n",
    "plt.grid(True)\n",
    "\n",
    "plt.figure()\n",
    "plt.plot(test_accuracy)\n",
    "plt.title('test_accuracy')\n",
    "plt.xlabel('Epoch')\n",
    "plt.ylabel('percent')\n",
    "plt.grid(True)"
   ]
  },
  {
   "cell_type": "markdown",
   "metadata": {},
   "source": [
    "- The LeNet could be considered as almost same level of performance as the baseline, but the convergence speed is slower and small fluctuation is observed. "
   ]
  },
  {
   "cell_type": "markdown",
   "metadata": {},
   "source": [
    "## 3.4 Different network architecture - AlexNet"
   ]
  },
  {
   "cell_type": "code",
   "execution_count": 54,
   "metadata": {},
   "outputs": [],
   "source": [
    "import torch\n",
    "import torch.nn as nn\n",
    "import torchvision.datasets as dset\n",
    "import torchvision.transforms as transforms\n",
    "from torch.autograd import Variable\n",
    "import torch.nn.functional as F\n",
    "import torch.optim as optim\n",
    "import matplotlib.pyplot as plt"
   ]
  },
  {
   "cell_type": "code",
   "execution_count": 55,
   "metadata": {},
   "outputs": [],
   "source": [
    "trans = transforms.Compose([transforms.ToTensor(), transforms.Normalize((0.5,), (1.0,))])\n",
    "train_set = dset.MNIST(root='./data', train=True, transform=trans, download=True)\n",
    "test_set = dset.MNIST(root='./data', train=False, transform=trans)\n",
    "batch_size = 32\n",
    "\n",
    "train_loader = torch.utils.data.DataLoader(dataset=train_set,batch_size=batch_size,shuffle=True)\n",
    "test_loader = torch.utils.data.DataLoader(dataset=test_set,batch_size=batch_size,shuffle=False)"
   ]
  },
  {
   "cell_type": "code",
   "execution_count": 56,
   "metadata": {},
   "outputs": [],
   "source": [
    "class AlexNet(nn.Module):   \n",
    "    def __init__(self, num=10):\n",
    "        super(AlexNet, self).__init__()\n",
    "        self.feature = nn.Sequential(\n",
    "            nn.Conv2d(1, 32, kernel_size=5, stride=1, padding=1),\n",
    "            nn.ReLU(inplace=True), \n",
    "            nn.Conv2d(32, 64, kernel_size=3, padding=1),\n",
    "            nn.ReLU(inplace=True),   \n",
    "            nn.MaxPool2d( kernel_size=2, stride=2),\n",
    "            nn.Conv2d(64, 96, kernel_size=3, padding=1),\n",
    "            nn.ReLU(inplace=True),                         \n",
    "            nn.Conv2d(96, 64, kernel_size=3, padding=1),\n",
    "            nn.ReLU(inplace=True),                         \n",
    "            nn.Conv2d(64, 32, kernel_size=3, padding=1),\n",
    "            nn.ReLU(inplace=True),\n",
    "            nn.MaxPool2d( kernel_size=2, stride=1),\n",
    "        )\n",
    "        self.classifier = nn.Sequential(\n",
    "            nn.Dropout(),\n",
    "            nn.Linear(32*12*12,2048),\n",
    "            nn.ReLU(inplace=True),\n",
    "            nn.Dropout(),\n",
    "            nn.Linear(2048,1024),\n",
    "            nn.ReLU(inplace=True),\n",
    "            nn.Linear(1024,num),\n",
    "         \n",
    "        )\n",
    "    \n",
    "    def forward(self, x):\n",
    "\n",
    "        x = self.feature(x)\n",
    "        x = x.view(-1,32*12*12)\n",
    "        x = self.classifier(x)\n",
    "        return x"
   ]
  },
  {
   "cell_type": "code",
   "execution_count": 57,
   "metadata": {},
   "outputs": [],
   "source": [
    "def train(epoch):\n",
    "    model.train()\n",
    "    for batch_idx, (data, target) in enumerate(train_loader):\n",
    "        if torch.cuda.is_available():\n",
    "            data, target = data.cuda(), target.cuda()\n",
    "        data, target = Variable(data), Variable(target)\n",
    "        optimizer.zero_grad()\n",
    "        output = model(data)\n",
    "        loss = F.cross_entropy(output, target)\n",
    "        train_losses.append(loss.item())\n",
    "        loss.backward()\n",
    "        optimizer.step()\n",
    "        if batch_idx % 100 == 0:\n",
    "            print('\\rEpoch: {} {:.0f}%\\t     Loss: {:.6f}'.format(\n",
    "                epoch,\n",
    "                100. * batch_idx / len(train_loader), loss.item()), end='')"
   ]
  },
  {
   "cell_type": "code",
   "execution_count": 58,
   "metadata": {},
   "outputs": [],
   "source": [
    "def test():\n",
    "    model.eval()\n",
    "    test_loss = 0\n",
    "    correct = 0\n",
    "    for data, target in test_loader:\n",
    "        if torch.cuda.is_available():\n",
    "            data, target = data.cuda(), target.cuda()\n",
    "        data, target = Variable(data, volatile=True), Variable(target)\n",
    "        output = model(data)\n",
    "        test_loss += F.cross_entropy(output, target, size_average=False).item()\n",
    "        pred = output.data.max(1, keepdim=True)[1] # get the index of the max log-probability\n",
    "        correct += pred.eq(target.data.view_as(pred)).long().cpu().sum()\n",
    "      \n",
    "    test_loss /= len(test_loader.dataset)\n",
    "    test_losses.append(test_loss)\n",
    "    acc=100. * float(correct.to(torch.device('cpu')).numpy())\n",
    "    print('\\nTest result: Average loss: {:.4f}, Accuracy: {:.4f}%\\n'.format(\n",
    "        test_loss, acc / len(test_loader.dataset)))\n",
    "    \n",
    "    test_accuracy.append(acc / len(test_loader.dataset))"
   ]
  },
  {
   "cell_type": "code",
   "execution_count": 59,
   "metadata": {
    "scrolled": true
   },
   "outputs": [
    {
     "name": "stderr",
     "output_type": "stream",
     "text": [
      "\r",
      "  0%|          | 0/15 [00:00<?, ?it/s]"
     ]
    },
    {
     "name": "stdout",
     "output_type": "stream",
     "text": [
      "Epoch: 1 96%\t     Loss: 2.295179"
     ]
    },
    {
     "name": "stderr",
     "output_type": "stream",
     "text": [
      "/opt/conda/lib/python3.7/site-packages/ipykernel_launcher.py:8: UserWarning: volatile was removed and now has no effect. Use `with torch.no_grad():` instead.\n",
      "  \n",
      "  7%|▋         | 1/15 [00:21<04:56, 21.21s/it]"
     ]
    },
    {
     "name": "stdout",
     "output_type": "stream",
     "text": [
      "\n",
      "Test result: Average loss: 2.2999, Accuracy: 11.3500%\n",
      "\n",
      "Epoch: 2 96%\t     Loss: 0.991831"
     ]
    },
    {
     "name": "stderr",
     "output_type": "stream",
     "text": [
      "\r",
      " 13%|█▎        | 2/15 [00:42<04:34, 21.15s/it]"
     ]
    },
    {
     "name": "stdout",
     "output_type": "stream",
     "text": [
      "\n",
      "Test result: Average loss: 0.6118, Accuracy: 78.0400%\n",
      "\n",
      "Epoch: 3 96%\t     Loss: 0.362625"
     ]
    },
    {
     "name": "stderr",
     "output_type": "stream",
     "text": [
      "\r",
      " 20%|██        | 3/15 [01:04<04:16, 21.35s/it]"
     ]
    },
    {
     "name": "stdout",
     "output_type": "stream",
     "text": [
      "\n",
      "Test result: Average loss: 0.1439, Accuracy: 95.2100%\n",
      "\n",
      "Epoch: 4 96%\t     Loss: 0.225174"
     ]
    },
    {
     "name": "stderr",
     "output_type": "stream",
     "text": [
      "\r",
      " 27%|██▋       | 4/15 [01:25<03:55, 21.41s/it]"
     ]
    },
    {
     "name": "stdout",
     "output_type": "stream",
     "text": [
      "\n",
      "Test result: Average loss: 0.0839, Accuracy: 97.1700%\n",
      "\n",
      "Epoch: 5 96%\t     Loss: 0.027573"
     ]
    },
    {
     "name": "stderr",
     "output_type": "stream",
     "text": [
      "\r",
      " 33%|███▎      | 5/15 [01:47<03:36, 21.63s/it]"
     ]
    },
    {
     "name": "stdout",
     "output_type": "stream",
     "text": [
      "\n",
      "Test result: Average loss: 0.0641, Accuracy: 97.7500%\n",
      "\n",
      "Epoch: 6 96%\t     Loss: 0.112189"
     ]
    },
    {
     "name": "stderr",
     "output_type": "stream",
     "text": [
      "\r",
      " 40%|████      | 6/15 [02:08<03:13, 21.52s/it]"
     ]
    },
    {
     "name": "stdout",
     "output_type": "stream",
     "text": [
      "\n",
      "Test result: Average loss: 0.0579, Accuracy: 98.0700%\n",
      "\n",
      "Epoch: 7 96%\t     Loss: 0.029149"
     ]
    },
    {
     "name": "stderr",
     "output_type": "stream",
     "text": [
      "\r",
      " 47%|████▋     | 7/15 [02:31<02:53, 21.69s/it]"
     ]
    },
    {
     "name": "stdout",
     "output_type": "stream",
     "text": [
      "\n",
      "Test result: Average loss: 0.0491, Accuracy: 98.2900%\n",
      "\n",
      "Epoch: 8 96%\t     Loss: 0.031573"
     ]
    },
    {
     "name": "stderr",
     "output_type": "stream",
     "text": [
      "\r",
      " 53%|█████▎    | 8/15 [02:52<02:30, 21.50s/it]"
     ]
    },
    {
     "name": "stdout",
     "output_type": "stream",
     "text": [
      "\n",
      "Test result: Average loss: 0.0436, Accuracy: 98.6900%\n",
      "\n",
      "Epoch: 9 96%\t     Loss: 0.027656"
     ]
    },
    {
     "name": "stderr",
     "output_type": "stream",
     "text": [
      "\r",
      " 60%|██████    | 9/15 [03:13<02:09, 21.55s/it]"
     ]
    },
    {
     "name": "stdout",
     "output_type": "stream",
     "text": [
      "\n",
      "Test result: Average loss: 0.0392, Accuracy: 98.7800%\n",
      "\n",
      "Epoch: 10 96%\t     Loss: 0.002755"
     ]
    },
    {
     "name": "stderr",
     "output_type": "stream",
     "text": [
      "\r",
      " 67%|██████▋   | 10/15 [03:34<01:46, 21.35s/it]"
     ]
    },
    {
     "name": "stdout",
     "output_type": "stream",
     "text": [
      "\n",
      "Test result: Average loss: 0.0323, Accuracy: 98.9200%\n",
      "\n",
      "Epoch: 11 96%\t     Loss: 0.030650"
     ]
    },
    {
     "name": "stderr",
     "output_type": "stream",
     "text": [
      "\r",
      " 73%|███████▎  | 11/15 [03:55<01:25, 21.34s/it]"
     ]
    },
    {
     "name": "stdout",
     "output_type": "stream",
     "text": [
      "\n",
      "Test result: Average loss: 0.0321, Accuracy: 98.8800%\n",
      "\n",
      "Epoch: 12 96%\t     Loss: 0.007204"
     ]
    },
    {
     "name": "stderr",
     "output_type": "stream",
     "text": [
      "\r",
      " 80%|████████  | 12/15 [04:16<01:03, 21.04s/it]"
     ]
    },
    {
     "name": "stdout",
     "output_type": "stream",
     "text": [
      "\n",
      "Test result: Average loss: 0.0281, Accuracy: 98.9800%\n",
      "\n",
      "Epoch: 13 96%\t     Loss: 0.078330"
     ]
    },
    {
     "name": "stderr",
     "output_type": "stream",
     "text": [
      "\r",
      " 87%|████████▋ | 13/15 [04:37<00:42, 21.19s/it]"
     ]
    },
    {
     "name": "stdout",
     "output_type": "stream",
     "text": [
      "\n",
      "Test result: Average loss: 0.0304, Accuracy: 98.9200%\n",
      "\n",
      "Epoch: 14 96%\t     Loss: 0.001200"
     ]
    },
    {
     "name": "stderr",
     "output_type": "stream",
     "text": [
      "\r",
      " 93%|█████████▎| 14/15 [04:59<00:21, 21.30s/it]"
     ]
    },
    {
     "name": "stdout",
     "output_type": "stream",
     "text": [
      "\n",
      "Test result: Average loss: 0.0276, Accuracy: 99.1100%\n",
      "\n",
      "Epoch: 15 96%\t     Loss: 0.013864"
     ]
    },
    {
     "name": "stderr",
     "output_type": "stream",
     "text": [
      "\r",
      "100%|██████████| 15/15 [05:20<00:00, 21.32s/it]"
     ]
    },
    {
     "name": "stdout",
     "output_type": "stream",
     "text": [
      "\n",
      "Test result: Average loss: 0.0265, Accuracy: 99.0500%\n",
      "\n"
     ]
    },
    {
     "name": "stderr",
     "output_type": "stream",
     "text": [
      "\n"
     ]
    },
    {
     "data": {
      "image/png": "[encoded data removed]",
      "text/plain": [
       "<Figure size 432x288 with 1 Axes>"
      ]
     },
     "metadata": {
      "needs_background": "light"
     },
     "output_type": "display_data"
    },
    {
     "data": {
      "image/png": "[encoded data removed]",
      "text/plain": [
       "<Figure size 432x288 with 1 Axes>"
      ]
     },
     "metadata": {
      "needs_background": "light"
     },
     "output_type": "display_data"
    },
    {
     "data": {
      "image/png": "[encoded data removed]",
      "text/plain": [
       "<Figure size 432x288 with 1 Axes>"
      ]
     },
     "metadata": {
      "needs_background": "light"
     },
     "output_type": "display_data"
    }
   ],
   "source": [
    "model = AlexNet()\n",
    "if torch.cuda.is_available():\n",
    "    model.cuda()\n",
    "        \n",
    "optimizer = optim.SGD(model.parameters(), lr=0.01)\n",
    "\n",
    "train_losses = []\n",
    "test_losses =[]\n",
    "test_accuracy = []\n",
    "for epoch in tqdm(range(1, 16)):\n",
    "    train(epoch)\n",
    "    test()\n",
    "    \n",
    "plt.figure()\n",
    "plt.plot(train_losses)\n",
    "plt.title('train losses')\n",
    "plt.xlabel('step')\n",
    "plt.ylabel('percent')\n",
    "plt.grid(True)\n",
    "\n",
    "plt.figure()\n",
    "plt.plot(test_losses)\n",
    "plt.title('test losses')\n",
    "plt.xlabel('Epoch')\n",
    "plt.ylabel('percent')\n",
    "plt.grid(True)\n",
    "\n",
    "plt.figure()\n",
    "plt.plot(test_accuracy)\n",
    "plt.title('test_accuracy')\n",
    "plt.xlabel('Epoch')\n",
    "plt.ylabel('percent')\n",
    "plt.grid(True)"
   ]
  },
  {
   "cell_type": "markdown",
   "metadata": {},
   "source": [
    "- AlexNet is showing the best performance among tested models. In only 15 epochs, it showed over the 99% on the test accuracy within early few epochs, and the fluctuation is much smaller than others. "
   ]
  }
 ],
 "metadata": {
  "kernelspec": {
   "display_name": "Python 3",
   "language": "python",
   "name": "python3"
  },
  "language_info": {
   "codemirror_mode": {
    "name": "ipython",
    "version": 3
   },
   "file_extension": ".py",
   "mimetype": "text/x-python",
   "name": "python",
   "nbconvert_exporter": "python",
   "pygments_lexer": "ipython3",
   "version": "3.7.3"
  }
 },
 "nbformat": 4,
 "nbformat_minor": 2
}
