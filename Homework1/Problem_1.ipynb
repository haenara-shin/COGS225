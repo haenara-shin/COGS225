{
 "cells": [
  {
   "cell_type": "code",
   "execution_count": 1,
   "metadata": {},
   "outputs": [],
   "source": [
    "import numpy as np\n",
    "import torch"
   ]
  },
  {
   "cell_type": "markdown",
   "metadata": {},
   "source": [
    "# 1. Basic Matrix Operations with NumPy and PyTorch"
   ]
  },
  {
   "cell_type": "markdown",
   "metadata": {},
   "source": [
    "# 1.1  NumPy Arithmetic"
   ]
  },
  {
   "cell_type": "code",
   "execution_count": 2,
   "metadata": {
    "scrolled": true
   },
   "outputs": [
    {
     "name": "stdout",
     "output_type": "stream",
     "text": [
      "1. A + B = \n",
      " [[0 3]\n",
      " [4 3]\n",
      " [4 7]] \n",
      "\n",
      "2. A o B = \n",
      " [[-1  2]\n",
      " [ 3 -4]\n",
      " [-5  6]] \n",
      "\n",
      "3. ATB = \n",
      " [[-3  3]\n",
      " [-4  4]] \n",
      "\n",
      "4. ABT = \n",
      " [[ 1 -1  1]\n",
      " [ 1 -1  1]\n",
      " [ 1 -1  1]] \n",
      "\n",
      "5. AB = impossible. This is because the shape of each matrix is not matched.\n"
     ]
    }
   ],
   "source": [
    "A = np.array([[1,2], [3,4], [5,6]])\n",
    "B = np.array([[-1,1], [1,-1], [-1,1]])\n",
    "\n",
    "# A + B\n",
    "print('1. A + B = \\n', A + B, '\\n')\n",
    "# A o B\n",
    "print('2. A o B = \\n', A * B,'\\n')\n",
    "# ATB\n",
    "print('3. ATB = \\n', A.T @ B, '\\n')\n",
    "# ABT\n",
    "print('4. ABT = \\n', A @ B.T, '\\n')\n",
    "# AB\n",
    "print('5. AB = impossible. This is because the shape of each matrix is not matched.')"
   ]
  },
  {
   "cell_type": "markdown",
   "metadata": {},
   "source": [
    "## 1.2 PyTorch Arithmetic"
   ]
  },
  {
   "cell_type": "code",
   "execution_count": 3,
   "metadata": {
    "scrolled": true
   },
   "outputs": [
    {
     "name": "stdout",
     "output_type": "stream",
     "text": [
      "tensor([[1., 2.],\n",
      "        [3., 4.],\n",
      "        [5., 6.]]) \n",
      " tensor([[-1.,  1.],\n",
      "        [ 1., -1.],\n",
      "        [-1.,  1.]]) \n",
      "\n",
      "1. A + B = \n",
      " tensor([[0., 3.],\n",
      "        [4., 3.],\n",
      "        [4., 7.]]) \n",
      "\n",
      "2. A o B = \n",
      " tensor([[-1.,  2.],\n",
      "        [ 3., -4.],\n",
      "        [-5.,  6.]]) \n",
      "\n",
      "3. ATB = \n",
      " tensor([[-3.,  3.],\n",
      "        [-4.,  4.]]) \n",
      "\n",
      "4. ABT = \n",
      " tensor([[ 1., -1.,  1.],\n",
      "        [ 1., -1.,  1.],\n",
      "        [ 1., -1.,  1.]]) \n",
      "\n",
      "5. AB = impossible. This is because the shape of each matrix is not matched.\n"
     ]
    }
   ],
   "source": [
    "A_pt = torch.FloatTensor(A)\n",
    "B_pt = torch.FloatTensor(B)\n",
    "print(A_pt, '\\n', B_pt, '\\n')\n",
    "\n",
    "# A + B\n",
    "print('1. A + B = \\n', A_pt + B_pt, '\\n')\n",
    "# A o B\n",
    "print('2. A o B = \\n', A_pt.mul(B_pt),'\\n')\n",
    "# ATB\n",
    "print('3. ATB = \\n', A_pt.T.matmul(B_pt), '\\n')\n",
    "# ABT\n",
    "print('4. ABT = \\n', A_pt.matmul(B_pt.T), '\\n')\n",
    "# AB\n",
    "print('5. AB = impossible. This is because the shape of each matrix is not matched.')"
   ]
  }
 ],
 "metadata": {
  "kernelspec": {
   "display_name": "Python 3",
   "language": "python",
   "name": "python3"
  },
  "language_info": {
   "codemirror_mode": {
    "name": "ipython",
    "version": 3
   },
   "file_extension": ".py",
   "mimetype": "text/x-python",
   "name": "python",
   "nbconvert_exporter": "python",
   "pygments_lexer": "ipython3",
   "version": "3.7.3"
  }
 },
 "nbformat": 4,
 "nbformat_minor": 1
}
