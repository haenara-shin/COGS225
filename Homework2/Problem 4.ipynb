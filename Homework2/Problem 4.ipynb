{
 "cells": [
  {
   "cell_type": "markdown",
   "metadata": {},
   "source": [
    "# Problem 4"
   ]
  },
  {
   "cell_type": "markdown",
   "metadata": {},
   "source": [
    "# Reference\n",
    "- https://github.com/wihoho/Image-Recognition\n",
    "- https://github.com/TrungTVo/spatial-pyramid-matching-scene-recognition\n",
    "- https://stackoverflow.com/questions/52305578/sift-cv2-xfeatures2d-sift-create-not-working-even-though-have-contrib-instal\n",
    "- https://github.com/CyrusChiu/Image-recognition\n",
    "> Working environment\n",
    " - Python 2.7\n",
    " - Two versions of scikit-learn (0.20.1 and 0.18.1) was implemented. The detail reason is explained below its operational section. \n",
    " - OpenCV (3.3.0.10) was implemented, because the 2nd reference recommends installing 2.xx version, but the 3rd reference said early 3.x version should be fine). The specific reason for this is the newer version of OpenCV does not provide SIFT anymore.\n",
    " - Downloaded most of skeleton codes from the 4th reference, and its operational codes like as classifier.py, spm.py, utils.py from it, too. "
   ]
  },
  {
   "cell_type": "code",
   "execution_count": 1,
   "metadata": {},
   "outputs": [],
   "source": [
    "import cv2\n",
    "import spm\n",
    "from spm import build_spatial_pyramid, spatial_pyramid_matching\n",
    "\n",
    "import numpy as np\n",
    "from sklearn import svm\n",
    "from sklearn.model_selection import GridSearchCV\n",
    "from sklearn.linear_model import SGDClassifier\n",
    "from sklearn.metrics import accuracy_score,confusion_matrix,classification_report\n",
    "from mnist import MNIST\n",
    "\n",
    "from utils import *\n",
    "from classifier import svm_classifier"
   ]
  },
  {
   "cell_type": "code",
   "execution_count": 2,
   "metadata": {},
   "outputs": [
    {
     "data": {
      "text/plain": [
       "'0.18.1'"
      ]
     },
     "execution_count": 2,
     "metadata": {},
     "output_type": "execute_result"
    }
   ],
   "source": [
    "sklearn.__version__"
   ]
  },
  {
   "cell_type": "code",
   "execution_count": 3,
   "metadata": {},
   "outputs": [],
   "source": [
    "all_data = MNIST('MNIST_data/')"
   ]
  },
  {
   "cell_type": "code",
   "execution_count": 4,
   "metadata": {},
   "outputs": [],
   "source": [
    "train_input, train_label = all_data.load_training()\n",
    "test_input, test_label = all_data.load_testing()\n",
    "train_img_raw = np.zeros((len(train_input),len(train_input[0])))\n",
    "test_img_raw = np.zeros((len(test_input),len(test_input[0])))"
   ]
  },
  {
   "cell_type": "code",
   "execution_count": 5,
   "metadata": {},
   "outputs": [],
   "source": [
    "for i in range(len(train_input)):\n",
    "    train_img_raw[i] = np.array(train_input[i]).astype('float32')\n",
    "for i in range(len(test_input)):\n",
    "    test_img_raw[i] = np.array(test_input[i]).astype('float32')\n",
    "    \n",
    "train_label = np.array(train_label).astype('uint8')\n",
    "test_label = np.array(test_label).astype('uint8')\n",
    "\n",
    "train_img_ratio = train_img_raw/255\n",
    "test_img_ratio = test_img_raw/255"
   ]
  },
  {
   "cell_type": "code",
   "execution_count": 6,
   "metadata": {},
   "outputs": [],
   "source": [
    "VOC_SIZE = 100\n",
    "PYRAMID_LEVEL = 2\n",
    "\n",
    "DSIFT_STEP_SIZE = 4\n",
    "\n",
    "# Time is precious\n",
    "index_limit = 5000\n",
    "# Only For Test Purpose\n",
    "train_img_raw = train_img_raw[:index_limit]\n",
    "test_img_raw = test_img_raw[:5000]\n",
    "train_label = train_label[:index_limit]\n",
    "test_label = test_label[:5000]\n",
    "#train_img_raw = train_img_raw[:]\n",
    "#test_img_raw = test_img_raw[:]\n",
    "#train_label = train_label[:]\n",
    "#test_label = test_label[:]\n",
    "\n",
    "x_train = [np.stack((train_img_raw[i].reshape((28,28)).astype('uint8'),train_img_raw[i].reshape((28,28)).astype('uint8'),train_img_raw[i].reshape((28,28)).astype('uint8')),axis=2) for i in range(len(train_img_raw))]\n",
    "y_train = train_label\n",
    "x_test = [np.stack((test_img_raw[i].reshape((28,28)).astype('uint8'),test_img_raw[i].reshape((28,28)).astype('uint8'),test_img_raw[i].reshape((28,28)).astype('uint8')),axis=2) for i in range(len(test_img_raw))]\n",
    "y_test = test_label"
   ]
  },
  {
   "cell_type": "code",
   "execution_count": 7,
   "metadata": {},
   "outputs": [
    {
     "name": "stdout",
     "output_type": "stream",
     "text": [
      "Dense SIFT feature extraction\n",
      "Remove None in SIFT extraction\n",
      "Train/Test split: 5000/5000\n",
      "Codebook Size: 100\n",
      "Pyramid level: 2\n",
      "Building the codebook, it will take some time\n"
     ]
    }
   ],
   "source": [
    "print (\"Dense SIFT feature extraction\")\n",
    "x_train_feature = [extract_DenseSift_descriptors(img) for img in x_train]\n",
    "x_test_feature = [extract_DenseSift_descriptors(img) for img in x_test]\n",
    "\n",
    "print(\"Remove None in SIFT extraction\")\n",
    "train_tmp = [each for each in zip(x_train_feature, train_label) if not each[0] is None]\n",
    "x_train_feature, train_label = zip(*train_tmp)\n",
    "test_tmp = [each for each in zip(x_test_feature, test_label) if not each[0] is None]\n",
    "x_test_feature, test_label = zip(*test_tmp)\n",
    "\n",
    "x_train_kp, x_train_des = zip(*x_train_feature)\n",
    "x_test_kp, x_test_des = zip(*x_test_feature)\n",
    "\n",
    "print (\"Train/Test split: {:d}/{:d}\".format(len(y_train), len(y_test)))\n",
    "print (\"Codebook Size: {:d}\".format(VOC_SIZE))\n",
    "print (\"Pyramid level: {:d}\".format(PYRAMID_LEVEL))\n",
    "\n",
    "print (\"Building the codebook, it will take some time\")\n",
    "#codebook = build_codebook(x_train_des, voc_size=VOC_SIZE) \n",
    "\"\"\"\n",
    "Because of the version confliction for scikit-learn, firstly we should make codebook file based on the latest version of\n",
    "scikit-learn (0.20.1). The older version of this does not work. However, the latest version does not provide an \n",
    "attribute, the grid_scores, which has mean_sores, scores, parameters as tuple-type. It is replaced with cv_results_, but \n",
    "it gives lot of useless data here as dictionary type. \n",
    "So, Once we process to make the codebook file with the latest version,then downgrade the scikit-learn to 0.18.1\n",
    ", and proceed the following part.\n",
    "\"\"\"\n",
    "import cPickle\n",
    "# with open('./bow_codebook.pkl','w') as f:\n",
    "#     cPickle.dump(codebook, f)\n",
    "with open('./bow_codebook.pkl','r') as f:\n",
    "    codebook = cPickle.load(f)\n",
    "    f.close()"
   ]
  },
  {
   "cell_type": "code",
   "execution_count": 8,
   "metadata": {},
   "outputs": [
    {
     "name": "stdout",
     "output_type": "stream",
     "text": [
      "Spatial Pyramid Matching encoding\n"
     ]
    }
   ],
   "source": [
    "print (\"Spatial Pyramid Matching encoding\")\n",
    "x_train = [spatial_pyramid_matching(x_train[i],\n",
    "                                    x_train_des[i],\n",
    "                                    codebook,\n",
    "                                    level=PYRAMID_LEVEL)\n",
    "                                    for i in range(len(x_train))]\n",
    "\n",
    "x_test = [spatial_pyramid_matching(x_test[i],\n",
    "                                   x_test_des[i],\n",
    "                                   codebook,\n",
    "                                   level=PYRAMID_LEVEL) for i in range(len(x_test))]\n",
    "\n",
    "x_train = np.asarray(x_train)\n",
    "x_test = np.asarray(x_test)"
   ]
  },
  {
   "cell_type": "code",
   "execution_count": 9,
   "metadata": {},
   "outputs": [
    {
     "name": "stdout",
     "output_type": "stream",
     "text": [
      "Tuning hyperparameters\n",
      "\n"
     ]
    },
    {
     "name": "stderr",
     "output_type": "stream",
     "text": [
      "/Users/Haenara.SHIN/opt/anaconda3/envs/COGS260_env_27/lib/python2.7/site-packages/sklearn/model_selection/_search.py:667: DeprecationWarning: The grid_scores_ attribute was deprecated in version 0.18 in favor of the more elaborate cv_results_ attribute. The grid_scores_ attribute will not be available from 0.20\n",
      "  DeprecationWarning)\n"
     ]
    },
    {
     "name": "stdout",
     "output_type": "stream",
     "text": [
      "0.113 (+/-0.000) for {'C': 0.001, 'gamma': 0.001}\n",
      "0.113 (+/-0.000) for {'C': 0.001, 'gamma': 0.01}\n",
      "0.113 (+/-0.000) for {'C': 0.001, 'gamma': 0.1}\n",
      "0.113 (+/-0.000) for {'C': 0.001, 'gamma': 1.0}\n",
      "0.113 (+/-0.000) for {'C': 0.001, 'gamma': 10.0}\n",
      "0.113 (+/-0.000) for {'C': 0.001, 'gamma': 100.0}\n",
      "0.113 (+/-0.000) for {'C': 0.01, 'gamma': 0.001}\n",
      "0.113 (+/-0.000) for {'C': 0.01, 'gamma': 0.01}\n",
      "0.113 (+/-0.000) for {'C': 0.01, 'gamma': 0.1}\n",
      "0.573 (+/-0.009) for {'C': 0.01, 'gamma': 1.0}\n",
      "0.205 (+/-0.002) for {'C': 0.01, 'gamma': 10.0}\n",
      "0.113 (+/-0.000) for {'C': 0.01, 'gamma': 100.0}\n",
      "0.113 (+/-0.000) for {'C': 0.1, 'gamma': 0.001}\n",
      "0.113 (+/-0.000) for {'C': 0.1, 'gamma': 0.01}\n",
      "0.611 (+/-0.024) for {'C': 0.1, 'gamma': 0.1}\n",
      "0.846 (+/-0.027) for {'C': 0.1, 'gamma': 1.0}\n",
      "0.677 (+/-0.032) for {'C': 0.1, 'gamma': 10.0}\n",
      "0.148 (+/-0.005) for {'C': 0.1, 'gamma': 100.0}\n",
      "0.113 (+/-0.000) for {'C': 1.0, 'gamma': 0.001}\n",
      "0.627 (+/-0.034) for {'C': 1.0, 'gamma': 0.01}\n",
      "0.854 (+/-0.026) for {'C': 1.0, 'gamma': 0.1}\n",
      "0.900 (+/-0.021) for {'C': 1.0, 'gamma': 1.0}\n",
      "0.893 (+/-0.027) for {'C': 1.0, 'gamma': 10.0}\n",
      "0.259 (+/-0.010) for {'C': 1.0, 'gamma': 100.0}\n",
      "0.629 (+/-0.034) for {'C': 10.0, 'gamma': 0.001}\n",
      "0.854 (+/-0.027) for {'C': 10.0, 'gamma': 0.01}\n",
      "0.901 (+/-0.016) for {'C': 10.0, 'gamma': 0.1}\n",
      "0.906 (+/-0.022) for {'C': 10.0, 'gamma': 1.0}\n",
      "0.892 (+/-0.032) for {'C': 10.0, 'gamma': 10.0}\n",
      "0.277 (+/-0.012) for {'C': 10.0, 'gamma': 100.0}\n",
      "0.854 (+/-0.027) for {'C': 100.0, 'gamma': 0.001}\n",
      "0.900 (+/-0.015) for {'C': 100.0, 'gamma': 0.01}\n",
      "0.901 (+/-0.027) for {'C': 100.0, 'gamma': 0.1}\n",
      "0.900 (+/-0.021) for {'C': 100.0, 'gamma': 1.0}\n",
      "0.891 (+/-0.032) for {'C': 100.0, 'gamma': 10.0}\n",
      "0.277 (+/-0.012) for {'C': 100.0, 'gamma': 100.0}\n",
      "\n",
      "\n",
      "             precision    recall  f1-score   support\n",
      "\n",
      "          0       0.90      0.96      0.93       460\n",
      "          1       0.97      0.98      0.97       571\n",
      "          2       0.92      0.93      0.92       530\n",
      "          3       0.84      0.86      0.85       500\n",
      "          4       0.89      0.90      0.89       500\n",
      "          5       0.90      0.87      0.89       456\n",
      "          6       0.94      0.92      0.93       462\n",
      "          7       0.91      0.88      0.90       512\n",
      "          8       0.79      0.75      0.77       489\n",
      "          9       0.84      0.86      0.85       520\n",
      "\n",
      "avg / total       0.89      0.89      0.89      5000\n",
      "\n"
     ]
    }
   ],
   "source": [
    "C_range = 10.0 ** np.arange(-3, 3)\n",
    "gamma_range = 10.0 ** np.arange(-3, 3)\n",
    "param_grid = dict(gamma=gamma_range.tolist(), C=C_range.tolist())\n",
    "\n",
    "print(\"Tuning hyperparameters\\n\")\n",
    "clf = GridSearchCV(svm.SVC(), param_grid, cv=3, n_jobs=-2) # Grid search for C, gamma, 3-fold CV\n",
    "\n",
    "clf.fit(x_train[:], y_train[:])\n",
    "\n",
    "for params, mean_score, scores in clf.grid_scores_:\n",
    "    print(\"%0.3f (+/-%0.03f) for %r\" % (mean_score, scores.std() * 2, params))\n",
    "\n",
    "y_true, y_pred = y_test, clf.predict(x_test)\n",
    "print('\\n')\n",
    "print(classification_report(y_true, y_pred))"
   ]
  },
  {
   "cell_type": "code",
   "execution_count": 10,
   "metadata": {},
   "outputs": [],
   "source": [
    "x_valid = x_train[:5000]\n",
    "y_valid = y_train[:5000]\n",
    "x_train = x_train[5000:]\n",
    "y_train = y_train[5000:]"
   ]
  },
  {
   "cell_type": "code",
   "execution_count": 11,
   "metadata": {},
   "outputs": [
    {
     "name": "stdout",
     "output_type": "stream",
     "text": [
      "epoch ---> 0\n",
      "epoch ---> 1\n",
      "epoch ---> 2\n",
      "epoch ---> 3\n",
      "epoch ---> 4\n",
      "epoch ---> 5\n",
      "epoch ---> 6\n",
      "epoch ---> 7\n",
      "epoch ---> 8\n",
      "epoch ---> 9\n",
      "             precision    recall  f1-score   support\n",
      "\n",
      "          0       0.94      0.98      0.96        85\n",
      "          1       0.99      0.98      0.99       126\n",
      "          2       0.89      0.94      0.92       116\n",
      "          3       0.93      0.86      0.89       107\n",
      "          4       0.92      0.89      0.91       110\n",
      "          5       0.94      0.92      0.93        87\n",
      "          6       0.94      0.97      0.95        87\n",
      "          7       0.91      0.94      0.93        99\n",
      "          8       0.80      0.74      0.77        89\n",
      "          9       0.83      0.90      0.87        94\n",
      "\n",
      "avg / total       0.91      0.91      0.91      1000\n",
      "\n",
      "('validation accuracy is :', 0.98699999999999999)\n",
      "('test accuracy is :', 0.91400000000000003)\n"
     ]
    }
   ],
   "source": [
    "valid_predictions=[]\n",
    "test_predictions=[]\n",
    "for i in range(1000):\n",
    "    if i % 100 == 0:\n",
    "        print('epoch ---> '+str(int(i/100)))\n",
    "    valid_output = clf.predict([x_valid[i]])\n",
    "    test_output = clf.predict([x_test[i]])\n",
    "    valid_predictions.append(valid_output)\n",
    "    test_predictions.append(test_output)\n",
    "\n",
    "confusion_m = confusion_matrix(y_test[0:1000],test_predictions)\n",
    "\n",
    "print (classification_report(y_test[0:1000],np.array(test_predictions)))\n",
    "\n",
    "print ('validation accuracy is :',accuracy_score(y_valid[0:1000],valid_predictions))\n",
    "print ('test accuracy is :',accuracy_score(y_test[0:1000],test_predictions))\n",
    "\n",
    "class_names = [chr(i) for i in range(ord('0'),ord('9')+1)]"
   ]
  },
  {
   "cell_type": "code",
   "execution_count": 12,
   "metadata": {},
   "outputs": [],
   "source": [
    "import matplotlib.pyplot as plt\n",
    "import itertools\n",
    "\n",
    "def plot_confusion_matrix(cm, classes,\n",
    "                          normalize=False,\n",
    "                          title='Confusion matrix',\n",
    "                          cmap=plt.cm.Blues):\n",
    "    \"\"\"\n",
    "    This function prints and plots the confusion matrix.\n",
    "    Normalization can be applied by setting `normalize=True`.\n",
    "    \"\"\"\n",
    "    if normalize:\n",
    "        cm = cm.astype('float') / cm.sum(axis=1)[:, np.newaxis]\n",
    "        print(\"Normalized confusion matrix\")\n",
    "    else:\n",
    "        print('Confusion matrix, without normalization')\n",
    "\n",
    "    print(cm)\n",
    "\n",
    "    plt.imshow(cm, interpolation='nearest', cmap=cmap)\n",
    "    plt.title(title)\n",
    "    plt.colorbar()\n",
    "    tick_marks = np.arange(len(classes))\n",
    "    plt.xticks(tick_marks, classes, rotation=45)\n",
    "    plt.yticks(tick_marks, classes)\n",
    "\n",
    "    fmt = '.2f' if normalize else 'd'\n",
    "    thresh = cm.max() / 2.\n",
    "    for i, j in itertools.product(range(cm.shape[0]), range(cm.shape[1])):\n",
    "        plt.text(j, i, format(cm[i, j], fmt),\n",
    "                 horizontalalignment=\"center\",\n",
    "                 color=\"white\" if cm[i, j] > thresh else \"black\")\n",
    "\n",
    "    plt.tight_layout()\n",
    "    plt.ylabel('True label')\n",
    "    plt.xlabel('Predicted label')"
   ]
  },
  {
   "cell_type": "code",
   "execution_count": 13,
   "metadata": {},
   "outputs": [
    {
     "name": "stdout",
     "output_type": "stream",
     "text": [
      "Confusion matrix, without normalization\n",
      "[[ 83   0   0   0   1   0   0   0   1   0]\n",
      " [  0 124   1   0   0   0   0   0   1   0]\n",
      " [  0   0 109   2   0   0   1   3   1   0]\n",
      " [  0   0   5  92   0   1   0   2   6   1]\n",
      " [  0   1   1   0  98   0   2   0   0   8]\n",
      " [  0   0   1   2   1  80   0   0   3   0]\n",
      " [  2   0   0   0   1   0  84   0   0   0]\n",
      " [  0   0   1   1   0   1   0  93   0   3]\n",
      " [  3   0   4   2   2   3   2   2  66   5]\n",
      " [  0   0   0   0   3   0   0   2   4  85]]\n"
     ]
    },
    {
     "data": {
      "image/png": "[encoded data removed]",
      "text/plain": [
       "<Figure size 432x288 with 2 Axes>"
      ]
     },
     "metadata": {
      "needs_background": "light"
     },
     "output_type": "display_data"
    }
   ],
   "source": [
    "plot_confusion_matrix(confusion_m,classes=class_names,title='SPM confusion matrix\\nvalid_acc='+str(accuracy_score(y_valid[0:1000],valid_predictions))+'  test_acc='+str(accuracy_score(y_test[0:1000],test_predictions)))"
   ]
  }
 ],
 "metadata": {
  "kernelspec": {
   "display_name": "Python [conda env:COGS260_env_27]",
   "language": "python",
   "name": "conda-env-COGS260_env_27-py"
  },
  "language_info": {
   "codemirror_mode": {
    "name": "ipython",
    "version": 2
   },
   "file_extension": ".py",
   "mimetype": "text/x-python",
   "name": "python",
   "nbconvert_exporter": "python",
   "pygments_lexer": "ipython2",
   "version": "2.7.17"
  }
 },
 "nbformat": 4,
 "nbformat_minor": 4
}
